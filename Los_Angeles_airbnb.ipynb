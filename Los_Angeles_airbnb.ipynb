{
 "cells": [
  {
   "attachments": {},
   "cell_type": "markdown",
   "metadata": {},
   "source": [
    "# Preprocesamiento"
   ]
  },
  {
   "attachments": {},
   "cell_type": "markdown",
   "metadata": {},
   "source": [
    "### Importación módulos"
   ]
  },
  {
   "cell_type": "code",
   "execution_count": 1,
   "metadata": {},
   "outputs": [
    {
     "data": {
      "text/html": [
       "        <script type=\"text/javascript\">\n",
       "        window.PlotlyConfig = {MathJaxConfig: 'local'};\n",
       "        if (window.MathJax && window.MathJax.Hub && window.MathJax.Hub.Config) {window.MathJax.Hub.Config({SVG: {font: \"STIX-Web\"}});}\n",
       "        if (typeof require !== 'undefined') {\n",
       "        require.undef(\"plotly\");\n",
       "        requirejs.config({\n",
       "            paths: {\n",
       "                'plotly': ['https://cdn.plot.ly/plotly-2.24.1.min']\n",
       "            }\n",
       "        });\n",
       "        require(['plotly'], function(Plotly) {\n",
       "            window._Plotly = Plotly;\n",
       "        });\n",
       "        }\n",
       "        </script>\n",
       "        "
      ]
     },
     "metadata": {},
     "output_type": "display_data"
    },
    {
     "data": {
      "text/html": [
       "        <script type=\"text/javascript\">\n",
       "        window.PlotlyConfig = {MathJaxConfig: 'local'};\n",
       "        if (window.MathJax && window.MathJax.Hub && window.MathJax.Hub.Config) {window.MathJax.Hub.Config({SVG: {font: \"STIX-Web\"}});}\n",
       "        if (typeof require !== 'undefined') {\n",
       "        require.undef(\"plotly\");\n",
       "        requirejs.config({\n",
       "            paths: {\n",
       "                'plotly': ['https://cdn.plot.ly/plotly-2.24.1.min']\n",
       "            }\n",
       "        });\n",
       "        require(['plotly'], function(Plotly) {\n",
       "            window._Plotly = Plotly;\n",
       "        });\n",
       "        }\n",
       "        </script>\n",
       "        "
      ]
     },
     "metadata": {},
     "output_type": "display_data"
    }
   ],
   "source": [
    "import numpy as np\n",
    "import pandas as pd\n",
    "import seaborn as sns\n",
    "sns.set()\n",
    "import matplotlib.pyplot as plt\n",
    "\n",
    "import os\n",
    "import json\n",
    "import warnings\n",
    "warnings.simplefilter(action='ignore', category=FutureWarning)\n",
    "\n",
    "# mapas interactivos\n",
    "import folium\n",
    "from folium.plugins import FastMarkerCluster\n",
    "import geopandas as gpd\n",
    "from branca.colormap import LinearColormap\n",
    "\n",
    "#to make the plotly graphs\n",
    "import plotly.graph_objs as go\n",
    "import chart_studio.plotly as py\n",
    "from plotly.offline import iplot, init_notebook_mode\n",
    "import cufflinks\n",
    "cufflinks.go_offline(connected=True)\n",
    "init_notebook_mode(connected=True)\n",
    "import plotly.express as px\n",
    "\n"
   ]
  },
  {
   "cell_type": "code",
   "execution_count": 2,
   "metadata": {},
   "outputs": [
    {
     "data": {
      "text/plain": [
       "'#text mining\\nfrom nltk.tokenize import word_tokenize\\nfrom nltk.corpus import stopwords\\nimport re\\nfrom sklearn.feature_extraction.text import TfidfVectorizer, CountVectorizer\\nfrom wordcloud import WordCloud'"
      ]
     },
     "execution_count": 2,
     "metadata": {},
     "output_type": "execute_result"
    }
   ],
   "source": [
    "'''#text mining\n",
    "from nltk.tokenize import word_tokenize\n",
    "from nltk.corpus import stopwords\n",
    "import re\n",
    "from sklearn.feature_extraction.text import TfidfVectorizer, CountVectorizer\n",
    "from wordcloud import WordCloud'''"
   ]
  },
  {
   "cell_type": "code",
   "execution_count": 3,
   "metadata": {},
   "outputs": [],
   "source": [
    "listings = pd.read_csv(\"data/listings.csv\", index_col= \"id\")\n",
    "\n",
    "listings_details = pd.read_csv(\"data/listings_details.csv.gz\",  compression='gzip',index_col= \"id\", low_memory=False)\n"
   ]
  },
  {
   "cell_type": "code",
   "execution_count": 4,
   "metadata": {},
   "outputs": [
    {
     "name": "stdout",
     "output_type": "stream",
     "text": [
      "(42451, 17)\n",
      "(42451, 74)\n"
     ]
    }
   ],
   "source": [
    "print(listings.shape)\n",
    "print(listings_details.shape)"
   ]
  },
  {
   "attachments": {},
   "cell_type": "markdown",
   "metadata": {},
   "source": [
    "Listings tiene 17 variables y listings_details 74"
   ]
  },
  {
   "cell_type": "code",
   "execution_count": 5,
   "metadata": {},
   "outputs": [
    {
     "data": {
      "text/plain": [
       "Index(['name', 'host_id', 'host_name', 'neighbourhood_group', 'neighbourhood',\n",
       "       'latitude', 'longitude', 'room_type', 'price', 'minimum_nights',\n",
       "       'number_of_reviews', 'last_review', 'reviews_per_month',\n",
       "       'calculated_host_listings_count', 'availability_365',\n",
       "       'number_of_reviews_ltm', 'license'],\n",
       "      dtype='object')"
      ]
     },
     "execution_count": 5,
     "metadata": {},
     "output_type": "execute_result"
    }
   ],
   "source": [
    "listings.columns"
   ]
  },
  {
   "cell_type": "code",
   "execution_count": 6,
   "metadata": {},
   "outputs": [
    {
     "data": {
      "text/plain": [
       "Index(['listing_url', 'scrape_id', 'last_scraped', 'source', 'name',\n",
       "       'description', 'neighborhood_overview', 'picture_url', 'host_id',\n",
       "       'host_url', 'host_name', 'host_since', 'host_location', 'host_about',\n",
       "       'host_response_time', 'host_response_rate', 'host_acceptance_rate',\n",
       "       'host_is_superhost', 'host_thumbnail_url', 'host_picture_url',\n",
       "       'host_neighbourhood', 'host_listings_count',\n",
       "       'host_total_listings_count', 'host_verifications',\n",
       "       'host_has_profile_pic', 'host_identity_verified', 'neighbourhood',\n",
       "       'neighbourhood_cleansed', 'neighbourhood_group_cleansed', 'latitude',\n",
       "       'longitude', 'property_type', 'room_type', 'accommodates', 'bathrooms',\n",
       "       'bathrooms_text', 'bedrooms', 'beds', 'amenities', 'price',\n",
       "       'minimum_nights', 'maximum_nights', 'minimum_minimum_nights',\n",
       "       'maximum_minimum_nights', 'minimum_maximum_nights',\n",
       "       'maximum_maximum_nights', 'minimum_nights_avg_ntm',\n",
       "       'maximum_nights_avg_ntm', 'calendar_updated', 'has_availability',\n",
       "       'availability_30', 'availability_60', 'availability_90',\n",
       "       'availability_365', 'calendar_last_scraped', 'number_of_reviews',\n",
       "       'number_of_reviews_ltm', 'number_of_reviews_l30d', 'first_review',\n",
       "       'last_review', 'review_scores_rating', 'review_scores_accuracy',\n",
       "       'review_scores_cleanliness', 'review_scores_checkin',\n",
       "       'review_scores_communication', 'review_scores_location',\n",
       "       'review_scores_value', 'license', 'instant_bookable',\n",
       "       'calculated_host_listings_count',\n",
       "       'calculated_host_listings_count_entire_homes',\n",
       "       'calculated_host_listings_count_private_rooms',\n",
       "       'calculated_host_listings_count_shared_rooms', 'reviews_per_month'],\n",
       "      dtype='object')"
      ]
     },
     "execution_count": 6,
     "metadata": {},
     "output_type": "execute_result"
    }
   ],
   "source": [
    "listings_details.columns"
   ]
  },
  {
   "cell_type": "code",
   "execution_count": 7,
   "metadata": {},
   "outputs": [
    {
     "data": {
      "text/plain": [
       "'target_columns = [\"property_type\", \"accommodates\", \"first_review\", \"review_scores_value\", \"review_scores_cleanliness\", \"review_scores_location\", \"review_scores_accuracy\", \"review_scores_communication\", \"review_scores_checkin\", \"review_scores_rating\", \"maximum_nights\", \"listing_url\", \"host_is_superhost\", \"host_about\", \"host_response_time\", \"host_response_rate\", \"street\", \"weekly_price\", \"monthly_price\", \"market\"]\\nlistings = pd.merge(listings, listings_details[target_columns], on=\\'id\\', how=\\'left\\')\\nlistings.info()'"
      ]
     },
     "execution_count": 7,
     "metadata": {},
     "output_type": "execute_result"
    }
   ],
   "source": [
    "# Me quedaré con las columnas que me parezcan más interesantes:\n",
    "'''target_columns = [\"property_type\", \"accommodates\", \"first_review\", \"review_scores_value\", \"review_scores_cleanliness\", \"review_scores_location\", \"review_scores_accuracy\", \"review_scores_communication\", \"review_scores_checkin\", \"review_scores_rating\", \"maximum_nights\", \"listing_url\", \"host_is_superhost\", \"host_about\", \"host_response_time\", \"host_response_rate\", \"street\", \"weekly_price\", \"monthly_price\", \"market\"]\n",
    "listings = pd.merge(listings, listings_details[target_columns], on='id', how='left')\n",
    "listings.info()'''\n"
   ]
  },
  {
   "attachments": {},
   "cell_type": "markdown",
   "metadata": {},
   "source": [
    "# Preprocesamiento listings_details:"
   ]
  },
  {
   "attachments": {},
   "cell_type": "markdown",
   "metadata": {},
   "source": [
    "https://www.kaggle.com/code/elisabravo/airbnb-price-prediction/edit"
   ]
  },
  {
   "attachments": {},
   "cell_type": "markdown",
   "metadata": {},
   "source": [
    "### Librerias:"
   ]
  },
  {
   "cell_type": "code",
   "execution_count": 8,
   "metadata": {},
   "outputs": [],
   "source": [
    "from collections import defaultdict\n",
    "from sklearn.preprocessing import MinMaxScaler\n",
    "from scipy import stats\n",
    "import re"
   ]
  },
  {
   "cell_type": "code",
   "execution_count": 9,
   "metadata": {},
   "outputs": [],
   "source": [
    "df = listings_details.copy()"
   ]
  },
  {
   "attachments": {},
   "cell_type": "markdown",
   "metadata": {},
   "source": [
    "### Estado inicial prelimpieza:"
   ]
  },
  {
   "attachments": {},
   "cell_type": "markdown",
   "metadata": {},
   "source": [
    "#### Qué tenemos:"
   ]
  },
  {
   "cell_type": "code",
   "execution_count": 10,
   "metadata": {},
   "outputs": [
    {
     "name": "stdout",
     "output_type": "stream",
     "text": [
      "<class 'pandas.core.frame.DataFrame'>\n",
      "Index: 42451 entries, 777451666060243581 to 625415450215801684\n",
      "Data columns (total 74 columns):\n",
      " #   Column                                        Non-Null Count  Dtype  \n",
      "---  ------                                        --------------  -----  \n",
      " 0   listing_url                                   42451 non-null  object \n",
      " 1   scrape_id                                     42451 non-null  int64  \n",
      " 2   last_scraped                                  42451 non-null  object \n",
      " 3   source                                        42451 non-null  object \n",
      " 4   name                                          42449 non-null  object \n",
      " 5   description                                   41701 non-null  object \n",
      " 6   neighborhood_overview                         24957 non-null  object \n",
      " 7   picture_url                                   42451 non-null  object \n",
      " 8   host_id                                       42451 non-null  int64  \n",
      " 9   host_url                                      42451 non-null  object \n",
      " 10  host_name                                     42449 non-null  object \n",
      " 11  host_since                                    42449 non-null  object \n",
      " 12  host_location                                 33989 non-null  object \n",
      " 13  host_about                                    24626 non-null  object \n",
      " 14  host_response_time                            33076 non-null  object \n",
      " 15  host_response_rate                            33076 non-null  object \n",
      " 16  host_acceptance_rate                          34108 non-null  object \n",
      " 17  host_is_superhost                             42292 non-null  object \n",
      " 18  host_thumbnail_url                            42449 non-null  object \n",
      " 19  host_picture_url                              42449 non-null  object \n",
      " 20  host_neighbourhood                            33704 non-null  object \n",
      " 21  host_listings_count                           42449 non-null  float64\n",
      " 22  host_total_listings_count                     42449 non-null  float64\n",
      " 23  host_verifications                            42449 non-null  object \n",
      " 24  host_has_profile_pic                          42449 non-null  object \n",
      " 25  host_identity_verified                        42449 non-null  object \n",
      " 26  neighbourhood                                 24958 non-null  object \n",
      " 27  neighbourhood_cleansed                        42451 non-null  object \n",
      " 28  neighbourhood_group_cleansed                  42451 non-null  object \n",
      " 29  latitude                                      42451 non-null  float64\n",
      " 30  longitude                                     42451 non-null  float64\n",
      " 31  property_type                                 42451 non-null  object \n",
      " 32  room_type                                     42451 non-null  object \n",
      " 33  accommodates                                  42451 non-null  int64  \n",
      " 34  bathrooms                                     0 non-null      float64\n",
      " 35  bathrooms_text                                42410 non-null  object \n",
      " 36  bedrooms                                      38832 non-null  float64\n",
      " 37  beds                                          41854 non-null  float64\n",
      " 38  amenities                                     42451 non-null  object \n",
      " 39  price                                         42451 non-null  object \n",
      " 40  minimum_nights                                42451 non-null  int64  \n",
      " 41  maximum_nights                                42451 non-null  int64  \n",
      " 42  minimum_minimum_nights                        42446 non-null  float64\n",
      " 43  maximum_minimum_nights                        42446 non-null  float64\n",
      " 44  minimum_maximum_nights                        42446 non-null  float64\n",
      " 45  maximum_maximum_nights                        42446 non-null  float64\n",
      " 46  minimum_nights_avg_ntm                        42446 non-null  float64\n",
      " 47  maximum_nights_avg_ntm                        42446 non-null  float64\n",
      " 48  calendar_updated                              0 non-null      float64\n",
      " 49  has_availability                              42451 non-null  object \n",
      " 50  availability_30                               42451 non-null  int64  \n",
      " 51  availability_60                               42451 non-null  int64  \n",
      " 52  availability_90                               42451 non-null  int64  \n",
      " 53  availability_365                              42451 non-null  int64  \n",
      " 54  calendar_last_scraped                         42451 non-null  object \n",
      " 55  number_of_reviews                             42451 non-null  int64  \n",
      " 56  number_of_reviews_ltm                         42451 non-null  int64  \n",
      " 57  number_of_reviews_l30d                        42451 non-null  int64  \n",
      " 58  first_review                                  30780 non-null  object \n",
      " 59  last_review                                   30780 non-null  object \n",
      " 60  review_scores_rating                          30780 non-null  float64\n",
      " 61  review_scores_accuracy                        30531 non-null  float64\n",
      " 62  review_scores_cleanliness                     30533 non-null  float64\n",
      " 63  review_scores_checkin                         30526 non-null  float64\n",
      " 64  review_scores_communication                   30532 non-null  float64\n",
      " 65  review_scores_location                        30524 non-null  float64\n",
      " 66  review_scores_value                           30522 non-null  float64\n",
      " 67  license                                       11942 non-null  object \n",
      " 68  instant_bookable                              42451 non-null  object \n",
      " 69  calculated_host_listings_count                42451 non-null  int64  \n",
      " 70  calculated_host_listings_count_entire_homes   42451 non-null  int64  \n",
      " 71  calculated_host_listings_count_private_rooms  42451 non-null  int64  \n",
      " 72  calculated_host_listings_count_shared_rooms   42451 non-null  int64  \n",
      " 73  reviews_per_month                             30780 non-null  float64\n",
      "dtypes: float64(22), int64(16), object(36)\n",
      "memory usage: 24.3+ MB\n"
     ]
    }
   ],
   "source": [
    "df.info()"
   ]
  },
  {
   "attachments": {},
   "cell_type": "markdown",
   "metadata": {},
   "source": [
    "Vamos a ver si las variables numericas nos las sabe identificar y calcular. Vemos que algunas de ellas como los id no deberian de ser numeros sino categoricas:"
   ]
  },
  {
   "cell_type": "code",
   "execution_count": 11,
   "metadata": {},
   "outputs": [
    {
     "data": {
      "text/html": [
       "<div>\n",
       "<style scoped>\n",
       "    .dataframe tbody tr th:only-of-type {\n",
       "        vertical-align: middle;\n",
       "    }\n",
       "\n",
       "    .dataframe tbody tr th {\n",
       "        vertical-align: top;\n",
       "    }\n",
       "\n",
       "    .dataframe thead th {\n",
       "        text-align: right;\n",
       "    }\n",
       "</style>\n",
       "<table border=\"1\" class=\"dataframe\">\n",
       "  <thead>\n",
       "    <tr style=\"text-align: right;\">\n",
       "      <th></th>\n",
       "      <th>scrape_id</th>\n",
       "      <th>host_id</th>\n",
       "      <th>host_listings_count</th>\n",
       "      <th>host_total_listings_count</th>\n",
       "      <th>latitude</th>\n",
       "      <th>longitude</th>\n",
       "      <th>accommodates</th>\n",
       "      <th>bathrooms</th>\n",
       "      <th>bedrooms</th>\n",
       "      <th>beds</th>\n",
       "      <th>...</th>\n",
       "      <th>review_scores_cleanliness</th>\n",
       "      <th>review_scores_checkin</th>\n",
       "      <th>review_scores_communication</th>\n",
       "      <th>review_scores_location</th>\n",
       "      <th>review_scores_value</th>\n",
       "      <th>calculated_host_listings_count</th>\n",
       "      <th>calculated_host_listings_count_entire_homes</th>\n",
       "      <th>calculated_host_listings_count_private_rooms</th>\n",
       "      <th>calculated_host_listings_count_shared_rooms</th>\n",
       "      <th>reviews_per_month</th>\n",
       "    </tr>\n",
       "  </thead>\n",
       "  <tbody>\n",
       "    <tr>\n",
       "      <th>count</th>\n",
       "      <td>4.245100e+04</td>\n",
       "      <td>4.245100e+04</td>\n",
       "      <td>42449.000000</td>\n",
       "      <td>42449.000000</td>\n",
       "      <td>42451.000000</td>\n",
       "      <td>42451.000000</td>\n",
       "      <td>42451.000000</td>\n",
       "      <td>0.0</td>\n",
       "      <td>38832.000000</td>\n",
       "      <td>41854.000000</td>\n",
       "      <td>...</td>\n",
       "      <td>30533.000000</td>\n",
       "      <td>30526.000000</td>\n",
       "      <td>30532.000000</td>\n",
       "      <td>30524.000000</td>\n",
       "      <td>30522.000000</td>\n",
       "      <td>42451.000000</td>\n",
       "      <td>42451.000000</td>\n",
       "      <td>42451.000000</td>\n",
       "      <td>42451.000000</td>\n",
       "      <td>30780.000000</td>\n",
       "    </tr>\n",
       "    <tr>\n",
       "      <th>mean</th>\n",
       "      <td>2.023031e+13</td>\n",
       "      <td>1.634216e+08</td>\n",
       "      <td>142.159085</td>\n",
       "      <td>169.611251</td>\n",
       "      <td>34.058002</td>\n",
       "      <td>-118.319520</td>\n",
       "      <td>3.908224</td>\n",
       "      <td>NaN</td>\n",
       "      <td>1.775366</td>\n",
       "      <td>2.160486</td>\n",
       "      <td>...</td>\n",
       "      <td>4.710862</td>\n",
       "      <td>4.839167</td>\n",
       "      <td>4.829212</td>\n",
       "      <td>4.788386</td>\n",
       "      <td>4.673745</td>\n",
       "      <td>56.508092</td>\n",
       "      <td>20.247650</td>\n",
       "      <td>36.067914</td>\n",
       "      <td>0.161480</td>\n",
       "      <td>1.442880</td>\n",
       "    </tr>\n",
       "    <tr>\n",
       "      <th>std</th>\n",
       "      <td>0.000000e+00</td>\n",
       "      <td>1.593238e+08</td>\n",
       "      <td>653.655431</td>\n",
       "      <td>760.320411</td>\n",
       "      <td>0.136723</td>\n",
       "      <td>0.171488</td>\n",
       "      <td>2.731220</td>\n",
       "      <td>NaN</td>\n",
       "      <td>1.182934</td>\n",
       "      <td>1.595014</td>\n",
       "      <td>...</td>\n",
       "      <td>0.495622</td>\n",
       "      <td>0.414862</td>\n",
       "      <td>0.435060</td>\n",
       "      <td>0.405893</td>\n",
       "      <td>0.498480</td>\n",
       "      <td>191.566139</td>\n",
       "      <td>93.453999</td>\n",
       "      <td>171.220843</td>\n",
       "      <td>1.787155</td>\n",
       "      <td>1.801396</td>\n",
       "    </tr>\n",
       "    <tr>\n",
       "      <th>min</th>\n",
       "      <td>2.023031e+13</td>\n",
       "      <td>5.210000e+02</td>\n",
       "      <td>0.000000</td>\n",
       "      <td>0.000000</td>\n",
       "      <td>33.338480</td>\n",
       "      <td>-118.934830</td>\n",
       "      <td>0.000000</td>\n",
       "      <td>NaN</td>\n",
       "      <td>1.000000</td>\n",
       "      <td>1.000000</td>\n",
       "      <td>...</td>\n",
       "      <td>0.000000</td>\n",
       "      <td>0.000000</td>\n",
       "      <td>0.000000</td>\n",
       "      <td>0.000000</td>\n",
       "      <td>0.000000</td>\n",
       "      <td>1.000000</td>\n",
       "      <td>0.000000</td>\n",
       "      <td>0.000000</td>\n",
       "      <td>0.000000</td>\n",
       "      <td>0.010000</td>\n",
       "    </tr>\n",
       "    <tr>\n",
       "      <th>25%</th>\n",
       "      <td>2.023031e+13</td>\n",
       "      <td>2.430378e+07</td>\n",
       "      <td>1.000000</td>\n",
       "      <td>2.000000</td>\n",
       "      <td>34.000925</td>\n",
       "      <td>-118.432010</td>\n",
       "      <td>2.000000</td>\n",
       "      <td>NaN</td>\n",
       "      <td>1.000000</td>\n",
       "      <td>1.000000</td>\n",
       "      <td>...</td>\n",
       "      <td>4.650000</td>\n",
       "      <td>4.860000</td>\n",
       "      <td>4.840000</td>\n",
       "      <td>4.750000</td>\n",
       "      <td>4.600000</td>\n",
       "      <td>1.000000</td>\n",
       "      <td>1.000000</td>\n",
       "      <td>0.000000</td>\n",
       "      <td>0.000000</td>\n",
       "      <td>0.230000</td>\n",
       "    </tr>\n",
       "    <tr>\n",
       "      <th>50%</th>\n",
       "      <td>2.023031e+13</td>\n",
       "      <td>1.074344e+08</td>\n",
       "      <td>3.000000</td>\n",
       "      <td>5.000000</td>\n",
       "      <td>34.064243</td>\n",
       "      <td>-118.347517</td>\n",
       "      <td>3.000000</td>\n",
       "      <td>NaN</td>\n",
       "      <td>1.000000</td>\n",
       "      <td>2.000000</td>\n",
       "      <td>...</td>\n",
       "      <td>4.870000</td>\n",
       "      <td>4.970000</td>\n",
       "      <td>4.970000</td>\n",
       "      <td>4.910000</td>\n",
       "      <td>4.800000</td>\n",
       "      <td>2.000000</td>\n",
       "      <td>1.000000</td>\n",
       "      <td>0.000000</td>\n",
       "      <td>0.000000</td>\n",
       "      <td>0.770000</td>\n",
       "    </tr>\n",
       "    <tr>\n",
       "      <th>75%</th>\n",
       "      <td>2.023031e+13</td>\n",
       "      <td>2.735477e+08</td>\n",
       "      <td>15.000000</td>\n",
       "      <td>24.000000</td>\n",
       "      <td>34.118700</td>\n",
       "      <td>-118.247860</td>\n",
       "      <td>5.000000</td>\n",
       "      <td>NaN</td>\n",
       "      <td>2.000000</td>\n",
       "      <td>3.000000</td>\n",
       "      <td>...</td>\n",
       "      <td>5.000000</td>\n",
       "      <td>5.000000</td>\n",
       "      <td>5.000000</td>\n",
       "      <td>5.000000</td>\n",
       "      <td>4.970000</td>\n",
       "      <td>11.000000</td>\n",
       "      <td>5.000000</td>\n",
       "      <td>1.000000</td>\n",
       "      <td>0.000000</td>\n",
       "      <td>2.130000</td>\n",
       "    </tr>\n",
       "    <tr>\n",
       "      <th>max</th>\n",
       "      <td>2.023031e+13</td>\n",
       "      <td>5.039739e+08</td>\n",
       "      <td>4784.000000</td>\n",
       "      <td>8316.000000</td>\n",
       "      <td>34.811130</td>\n",
       "      <td>-117.653400</td>\n",
       "      <td>16.000000</td>\n",
       "      <td>NaN</td>\n",
       "      <td>24.000000</td>\n",
       "      <td>50.000000</td>\n",
       "      <td>...</td>\n",
       "      <td>5.000000</td>\n",
       "      <td>5.000000</td>\n",
       "      <td>5.000000</td>\n",
       "      <td>5.000000</td>\n",
       "      <td>5.000000</td>\n",
       "      <td>1003.000000</td>\n",
       "      <td>717.000000</td>\n",
       "      <td>1001.000000</td>\n",
       "      <td>37.000000</td>\n",
       "      <td>81.190000</td>\n",
       "    </tr>\n",
       "  </tbody>\n",
       "</table>\n",
       "<p>8 rows × 38 columns</p>\n",
       "</div>"
      ],
      "text/plain": [
       "          scrape_id       host_id  host_listings_count  \\\n",
       "count  4.245100e+04  4.245100e+04         42449.000000   \n",
       "mean   2.023031e+13  1.634216e+08           142.159085   \n",
       "std    0.000000e+00  1.593238e+08           653.655431   \n",
       "min    2.023031e+13  5.210000e+02             0.000000   \n",
       "25%    2.023031e+13  2.430378e+07             1.000000   \n",
       "50%    2.023031e+13  1.074344e+08             3.000000   \n",
       "75%    2.023031e+13  2.735477e+08            15.000000   \n",
       "max    2.023031e+13  5.039739e+08          4784.000000   \n",
       "\n",
       "       host_total_listings_count      latitude     longitude  accommodates  \\\n",
       "count               42449.000000  42451.000000  42451.000000  42451.000000   \n",
       "mean                  169.611251     34.058002   -118.319520      3.908224   \n",
       "std                   760.320411      0.136723      0.171488      2.731220   \n",
       "min                     0.000000     33.338480   -118.934830      0.000000   \n",
       "25%                     2.000000     34.000925   -118.432010      2.000000   \n",
       "50%                     5.000000     34.064243   -118.347517      3.000000   \n",
       "75%                    24.000000     34.118700   -118.247860      5.000000   \n",
       "max                  8316.000000     34.811130   -117.653400     16.000000   \n",
       "\n",
       "       bathrooms      bedrooms          beds  ...  review_scores_cleanliness  \\\n",
       "count        0.0  38832.000000  41854.000000  ...               30533.000000   \n",
       "mean         NaN      1.775366      2.160486  ...                   4.710862   \n",
       "std          NaN      1.182934      1.595014  ...                   0.495622   \n",
       "min          NaN      1.000000      1.000000  ...                   0.000000   \n",
       "25%          NaN      1.000000      1.000000  ...                   4.650000   \n",
       "50%          NaN      1.000000      2.000000  ...                   4.870000   \n",
       "75%          NaN      2.000000      3.000000  ...                   5.000000   \n",
       "max          NaN     24.000000     50.000000  ...                   5.000000   \n",
       "\n",
       "       review_scores_checkin  review_scores_communication  \\\n",
       "count           30526.000000                 30532.000000   \n",
       "mean                4.839167                     4.829212   \n",
       "std                 0.414862                     0.435060   \n",
       "min                 0.000000                     0.000000   \n",
       "25%                 4.860000                     4.840000   \n",
       "50%                 4.970000                     4.970000   \n",
       "75%                 5.000000                     5.000000   \n",
       "max                 5.000000                     5.000000   \n",
       "\n",
       "       review_scores_location  review_scores_value  \\\n",
       "count            30524.000000         30522.000000   \n",
       "mean                 4.788386             4.673745   \n",
       "std                  0.405893             0.498480   \n",
       "min                  0.000000             0.000000   \n",
       "25%                  4.750000             4.600000   \n",
       "50%                  4.910000             4.800000   \n",
       "75%                  5.000000             4.970000   \n",
       "max                  5.000000             5.000000   \n",
       "\n",
       "       calculated_host_listings_count  \\\n",
       "count                    42451.000000   \n",
       "mean                        56.508092   \n",
       "std                        191.566139   \n",
       "min                          1.000000   \n",
       "25%                          1.000000   \n",
       "50%                          2.000000   \n",
       "75%                         11.000000   \n",
       "max                       1003.000000   \n",
       "\n",
       "       calculated_host_listings_count_entire_homes  \\\n",
       "count                                 42451.000000   \n",
       "mean                                     20.247650   \n",
       "std                                      93.453999   \n",
       "min                                       0.000000   \n",
       "25%                                       1.000000   \n",
       "50%                                       1.000000   \n",
       "75%                                       5.000000   \n",
       "max                                     717.000000   \n",
       "\n",
       "       calculated_host_listings_count_private_rooms  \\\n",
       "count                                  42451.000000   \n",
       "mean                                      36.067914   \n",
       "std                                      171.220843   \n",
       "min                                        0.000000   \n",
       "25%                                        0.000000   \n",
       "50%                                        0.000000   \n",
       "75%                                        1.000000   \n",
       "max                                     1001.000000   \n",
       "\n",
       "       calculated_host_listings_count_shared_rooms  reviews_per_month  \n",
       "count                                 42451.000000       30780.000000  \n",
       "mean                                      0.161480           1.442880  \n",
       "std                                       1.787155           1.801396  \n",
       "min                                       0.000000           0.010000  \n",
       "25%                                       0.000000           0.230000  \n",
       "50%                                       0.000000           0.770000  \n",
       "75%                                       0.000000           2.130000  \n",
       "max                                      37.000000          81.190000  \n",
       "\n",
       "[8 rows x 38 columns]"
      ]
     },
     "execution_count": 11,
     "metadata": {},
     "output_type": "execute_result"
    }
   ],
   "source": [
    "listings_details.describe()"
   ]
  },
  {
   "attachments": {},
   "cell_type": "markdown",
   "metadata": {},
   "source": [
    "Cantidad observaciones o instancias hay en el conjunto de datos, es decir, número de filas o registros en el DataFrame (data points) y características en el DataFrame antes de realizar cualquier limpieza o manipulación adicional:"
   ]
  },
  {
   "cell_type": "code",
   "execution_count": 12,
   "metadata": {},
   "outputs": [
    {
     "name": "stdout",
     "output_type": "stream",
     "text": [
      "Antes de limpiar los datos hay: 42451 observaciones o data points.\n",
      "Antes de limpiar los datos hay: 74 columnas.\n"
     ]
    }
   ],
   "source": [
    "print(\"Antes de limpiar los datos hay: \" + str(df.count()[0]) + \" observaciones o data points.\")\n",
    "print(\"Antes de limpiar los datos hay: \" + str(len(df.columns)) + \" columnas.\")"
   ]
  },
  {
   "attachments": {},
   "cell_type": "markdown",
   "metadata": {},
   "source": [
    "#### Nulos:"
   ]
  },
  {
   "cell_type": "code",
   "execution_count": 13,
   "metadata": {},
   "outputs": [
    {
     "data": {
      "text/plain": [
       "bathrooms                      42451\n",
       "calendar_updated               42451\n",
       "license                        30509\n",
       "host_about                     17825\n",
       "neighborhood_overview          17494\n",
       "neighbourhood                  17493\n",
       "review_scores_value            11929\n",
       "review_scores_location         11927\n",
       "review_scores_checkin          11925\n",
       "review_scores_accuracy         11920\n",
       "review_scores_communication    11919\n",
       "review_scores_cleanliness      11918\n",
       "last_review                    11671\n",
       "first_review                   11671\n",
       "reviews_per_month              11671\n",
       "review_scores_rating           11671\n",
       "host_response_rate              9375\n",
       "host_response_time              9375\n",
       "host_neighbourhood              8747\n",
       "host_location                   8462\n",
       "host_acceptance_rate            8343\n",
       "bedrooms                        3619\n",
       "description                      750\n",
       "beds                             597\n",
       "host_is_superhost                159\n",
       "bathrooms_text                    41\n",
       "maximum_nights_avg_ntm             5\n",
       "maximum_minimum_nights             5\n",
       "minimum_maximum_nights             5\n",
       "maximum_maximum_nights             5\n",
       "dtype: int64"
      ]
     },
     "execution_count": 13,
     "metadata": {},
     "output_type": "execute_result"
    }
   ],
   "source": [
    "# Nulos por columna (observamos las 30 primeras columnas porque hay 74 en total)\n",
    "df.isnull().sum().sort_values(ascending=False)[0:30]"
   ]
  },
  {
   "cell_type": "code",
   "execution_count": 14,
   "metadata": {},
   "outputs": [
    {
     "data": {
      "text/html": [
       "<div>\n",
       "<style scoped>\n",
       "    .dataframe tbody tr th:only-of-type {\n",
       "        vertical-align: middle;\n",
       "    }\n",
       "\n",
       "    .dataframe tbody tr th {\n",
       "        vertical-align: top;\n",
       "    }\n",
       "\n",
       "    .dataframe thead th {\n",
       "        text-align: right;\n",
       "    }\n",
       "</style>\n",
       "<table border=\"1\" class=\"dataframe\">\n",
       "  <thead>\n",
       "    <tr style=\"text-align: right;\">\n",
       "      <th></th>\n",
       "      <th>bathrooms</th>\n",
       "      <th>calendar_updated</th>\n",
       "      <th>license</th>\n",
       "      <th>host_about</th>\n",
       "      <th>neighborhood_overview</th>\n",
       "      <th>neighbourhood</th>\n",
       "      <th>review_scores_value</th>\n",
       "      <th>review_scores_location</th>\n",
       "      <th>review_scores_checkin</th>\n",
       "      <th>review_scores_accuracy</th>\n",
       "      <th>...</th>\n",
       "      <th>review_scores_cleanliness</th>\n",
       "      <th>last_review</th>\n",
       "      <th>first_review</th>\n",
       "      <th>reviews_per_month</th>\n",
       "      <th>review_scores_rating</th>\n",
       "      <th>host_response_rate</th>\n",
       "      <th>host_response_time</th>\n",
       "      <th>host_neighbourhood</th>\n",
       "      <th>host_location</th>\n",
       "      <th>host_acceptance_rate</th>\n",
       "    </tr>\n",
       "  </thead>\n",
       "  <tbody>\n",
       "    <tr>\n",
       "      <th>% nulos</th>\n",
       "      <td>100.0</td>\n",
       "      <td>100.0</td>\n",
       "      <td>71.868743</td>\n",
       "      <td>41.989588</td>\n",
       "      <td>41.209865</td>\n",
       "      <td>41.20751</td>\n",
       "      <td>28.100634</td>\n",
       "      <td>28.095922</td>\n",
       "      <td>28.091211</td>\n",
       "      <td>28.079433</td>\n",
       "      <td>...</td>\n",
       "      <td>28.074721</td>\n",
       "      <td>27.492874</td>\n",
       "      <td>27.492874</td>\n",
       "      <td>27.492874</td>\n",
       "      <td>27.492874</td>\n",
       "      <td>22.084285</td>\n",
       "      <td>22.084285</td>\n",
       "      <td>20.604933</td>\n",
       "      <td>19.93357</td>\n",
       "      <td>19.653247</td>\n",
       "    </tr>\n",
       "  </tbody>\n",
       "</table>\n",
       "<p>1 rows × 21 columns</p>\n",
       "</div>"
      ],
      "text/plain": [
       "         bathrooms  calendar_updated    license  host_about  \\\n",
       "% nulos      100.0             100.0  71.868743   41.989588   \n",
       "\n",
       "         neighborhood_overview  neighbourhood  review_scores_value  \\\n",
       "% nulos              41.209865       41.20751            28.100634   \n",
       "\n",
       "         review_scores_location  review_scores_checkin  \\\n",
       "% nulos               28.095922              28.091211   \n",
       "\n",
       "         review_scores_accuracy  ...  review_scores_cleanliness  last_review  \\\n",
       "% nulos               28.079433  ...                  28.074721    27.492874   \n",
       "\n",
       "         first_review  reviews_per_month  review_scores_rating  \\\n",
       "% nulos     27.492874          27.492874             27.492874   \n",
       "\n",
       "         host_response_rate  host_response_time  host_neighbourhood  \\\n",
       "% nulos           22.084285           22.084285           20.604933   \n",
       "\n",
       "         host_location  host_acceptance_rate  \n",
       "% nulos       19.93357             19.653247  \n",
       "\n",
       "[1 rows x 21 columns]"
      ]
     },
     "execution_count": 14,
     "metadata": {},
     "output_type": "execute_result"
    }
   ],
   "source": [
    "nulos_values = df.isnull().sum()\n",
    "nulos_values_percentage = nulos_values/len(df)*100 #Calculamos el % del los datos faltantes en cada columna\n",
    "nulos_values_totales= nulos_values_percentage.sort_values(ascending = False) #Ordenamos de mayor a menor\n",
    "nulos_values_totales = pd.DataFrame(nulos_values_totales,columns=[\"% nulos\"])\n",
    "nulos_values_totales.sort_values(by=\"% nulos\", ascending=False).head(21).T"
   ]
  },
  {
   "attachments": {},
   "cell_type": "markdown",
   "metadata": {},
   "source": [
    "Hay columnas con el 100% de los valores nulos. Con al menos un 20% aproximadamente hay 21 columnas.  \n",
    "Vamos a eliminar esas columnas primero."
   ]
  },
  {
   "cell_type": "code",
   "execution_count": 15,
   "metadata": {},
   "outputs": [
    {
     "data": {
      "text/plain": [
       "<Axes: ylabel='id'>"
      ]
     },
     "execution_count": 15,
     "metadata": {},
     "output_type": "execute_result"
    },
    {
     "data": {
      "image/png": "[encoded data removed]",
      "text/plain": [
       "<Figure size 640x480 with 1 Axes>"
      ]
     },
     "metadata": {},
     "output_type": "display_data"
    }
   ],
   "source": [
    "sns.heatmap(df.isnull(),yticklabels=False,cbar=False,cmap='inferno')"
   ]
  },
  {
   "cell_type": "code",
   "execution_count": 16,
   "metadata": {},
   "outputs": [],
   "source": [
    "umbral = 18  # Porcentaje límite de valores nulos\n",
    "\n",
    "'''Obtener la lista de columnas a eliminar.\n",
    "Utilizamos .index.tolist() para obtener una lista de los nombres de las columnas a eliminar.'''\n",
    "columnas_eliminar = nulos_values_totales[nulos_values_totales['% nulos'] > umbral].index.tolist()\n",
    "\n",
    "# Eliminar las columnas del DataFrame original\n",
    "df1 = df.drop(columnas_eliminar, axis=1)"
   ]
  },
  {
   "cell_type": "code",
   "execution_count": 17,
   "metadata": {},
   "outputs": [
    {
     "data": {
      "text/plain": [
       "<Axes: ylabel='id'>"
      ]
     },
     "execution_count": 17,
     "metadata": {},
     "output_type": "execute_result"
    },
    {
     "data": {
      "image/png": "[encoded data removed]",
      "text/plain": [
       "<Figure size 640x480 with 1 Axes>"
      ]
     },
     "metadata": {},
     "output_type": "display_data"
    }
   ],
   "source": [
    "sns.heatmap(df1.isnull(),yticklabels=False,cbar=False,cmap='inferno')"
   ]
  },
  {
   "cell_type": "code",
   "execution_count": 18,
   "metadata": {},
   "outputs": [],
   "source": [
    "# Para que no me oculte columnas en medio '(...)' del dataframe:\n",
    "pd.set_option('display.max_columns', None)"
   ]
  },
  {
   "cell_type": "code",
   "execution_count": 19,
   "metadata": {},
   "outputs": [
    {
     "data": {
      "text/html": [
       "<div>\n",
       "<style scoped>\n",
       "    .dataframe tbody tr th:only-of-type {\n",
       "        vertical-align: middle;\n",
       "    }\n",
       "\n",
       "    .dataframe tbody tr th {\n",
       "        vertical-align: top;\n",
       "    }\n",
       "\n",
       "    .dataframe thead th {\n",
       "        text-align: right;\n",
       "    }\n",
       "</style>\n",
       "<table border=\"1\" class=\"dataframe\">\n",
       "  <thead>\n",
       "    <tr style=\"text-align: right;\">\n",
       "      <th></th>\n",
       "      <th>bedrooms</th>\n",
       "      <th>description</th>\n",
       "      <th>beds</th>\n",
       "      <th>host_is_superhost</th>\n",
       "      <th>bathrooms_text</th>\n",
       "      <th>maximum_nights_avg_ntm</th>\n",
       "      <th>maximum_minimum_nights</th>\n",
       "      <th>minimum_minimum_nights</th>\n",
       "      <th>minimum_nights_avg_ntm</th>\n",
       "      <th>maximum_maximum_nights</th>\n",
       "      <th>minimum_maximum_nights</th>\n",
       "      <th>host_since</th>\n",
       "      <th>host_name</th>\n",
       "      <th>name</th>\n",
       "      <th>host_thumbnail_url</th>\n",
       "      <th>host_identity_verified</th>\n",
       "      <th>host_has_profile_pic</th>\n",
       "      <th>host_verifications</th>\n",
       "      <th>host_picture_url</th>\n",
       "      <th>host_listings_count</th>\n",
       "      <th>host_total_listings_count</th>\n",
       "    </tr>\n",
       "  </thead>\n",
       "  <tbody>\n",
       "    <tr>\n",
       "      <th>% nulos</th>\n",
       "      <td>8.525123</td>\n",
       "      <td>1.766743</td>\n",
       "      <td>1.406327</td>\n",
       "      <td>0.374549</td>\n",
       "      <td>0.096582</td>\n",
       "      <td>0.011778</td>\n",
       "      <td>0.011778</td>\n",
       "      <td>0.011778</td>\n",
       "      <td>0.011778</td>\n",
       "      <td>0.011778</td>\n",
       "      <td>0.011778</td>\n",
       "      <td>0.004711</td>\n",
       "      <td>0.004711</td>\n",
       "      <td>0.004711</td>\n",
       "      <td>0.004711</td>\n",
       "      <td>0.004711</td>\n",
       "      <td>0.004711</td>\n",
       "      <td>0.004711</td>\n",
       "      <td>0.004711</td>\n",
       "      <td>0.004711</td>\n",
       "      <td>0.004711</td>\n",
       "    </tr>\n",
       "  </tbody>\n",
       "</table>\n",
       "</div>"
      ],
      "text/plain": [
       "         bedrooms  description      beds  host_is_superhost  bathrooms_text  \\\n",
       "% nulos  8.525123     1.766743  1.406327           0.374549        0.096582   \n",
       "\n",
       "         maximum_nights_avg_ntm  maximum_minimum_nights  \\\n",
       "% nulos                0.011778                0.011778   \n",
       "\n",
       "         minimum_minimum_nights  minimum_nights_avg_ntm  \\\n",
       "% nulos                0.011778                0.011778   \n",
       "\n",
       "         maximum_maximum_nights  minimum_maximum_nights  host_since  \\\n",
       "% nulos                0.011778                0.011778    0.004711   \n",
       "\n",
       "         host_name      name  host_thumbnail_url  host_identity_verified  \\\n",
       "% nulos   0.004711  0.004711            0.004711                0.004711   \n",
       "\n",
       "         host_has_profile_pic  host_verifications  host_picture_url  \\\n",
       "% nulos              0.004711            0.004711          0.004711   \n",
       "\n",
       "         host_listings_count  host_total_listings_count  \n",
       "% nulos             0.004711                   0.004711  "
      ]
     },
     "execution_count": 19,
     "metadata": {},
     "output_type": "execute_result"
    }
   ],
   "source": [
    "nulos_values = df1.isnull().sum()\n",
    "nulos_values_percentage = nulos_values/len(df1)*100 #Calculamos el % del los datos faltantes en cada columna\n",
    "nulos_values_totales= nulos_values_percentage.sort_values(ascending = False) #Ordenamos de mayor a menor\n",
    "nulos_values_totales = pd.DataFrame(nulos_values_totales,columns=[\"% nulos\"])\n",
    "nulos_values_totales[nulos_values_totales['% nulos'] > 0].sort_values(by=\"% nulos\", ascending=False).T"
   ]
  },
  {
   "cell_type": "code",
   "execution_count": 20,
   "metadata": {},
   "outputs": [
    {
     "data": {
      "text/html": [
       "<div>\n",
       "<style scoped>\n",
       "    .dataframe tbody tr th:only-of-type {\n",
       "        vertical-align: middle;\n",
       "    }\n",
       "\n",
       "    .dataframe tbody tr th {\n",
       "        vertical-align: top;\n",
       "    }\n",
       "\n",
       "    .dataframe thead th {\n",
       "        text-align: right;\n",
       "    }\n",
       "</style>\n",
       "<table border=\"1\" class=\"dataframe\">\n",
       "  <thead>\n",
       "    <tr style=\"text-align: right;\">\n",
       "      <th></th>\n",
       "      <th>host_listings_count</th>\n",
       "      <th>host_total_listings_count</th>\n",
       "    </tr>\n",
       "    <tr>\n",
       "      <th>id</th>\n",
       "      <th></th>\n",
       "      <th></th>\n",
       "    </tr>\n",
       "  </thead>\n",
       "  <tbody>\n",
       "    <tr>\n",
       "      <th>777451666060243581</th>\n",
       "      <td>1.0</td>\n",
       "      <td>1.0</td>\n",
       "    </tr>\n",
       "    <tr>\n",
       "      <th>698097753730921190</th>\n",
       "      <td>4.0</td>\n",
       "      <td>5.0</td>\n",
       "    </tr>\n",
       "    <tr>\n",
       "      <th>13063118</th>\n",
       "      <td>15.0</td>\n",
       "      <td>22.0</td>\n",
       "    </tr>\n",
       "    <tr>\n",
       "      <th>39337076</th>\n",
       "      <td>4.0</td>\n",
       "      <td>6.0</td>\n",
       "    </tr>\n",
       "    <tr>\n",
       "      <th>13077628</th>\n",
       "      <td>1.0</td>\n",
       "      <td>6.0</td>\n",
       "    </tr>\n",
       "    <tr>\n",
       "      <th>...</th>\n",
       "      <td>...</td>\n",
       "      <td>...</td>\n",
       "    </tr>\n",
       "    <tr>\n",
       "      <th>17286704</th>\n",
       "      <td>3.0</td>\n",
       "      <td>3.0</td>\n",
       "    </tr>\n",
       "    <tr>\n",
       "      <th>751077061221390362</th>\n",
       "      <td>5.0</td>\n",
       "      <td>5.0</td>\n",
       "    </tr>\n",
       "    <tr>\n",
       "      <th>663030240787490751</th>\n",
       "      <td>5.0</td>\n",
       "      <td>7.0</td>\n",
       "    </tr>\n",
       "    <tr>\n",
       "      <th>15876540</th>\n",
       "      <td>3.0</td>\n",
       "      <td>3.0</td>\n",
       "    </tr>\n",
       "    <tr>\n",
       "      <th>625415450215801684</th>\n",
       "      <td>8.0</td>\n",
       "      <td>9.0</td>\n",
       "    </tr>\n",
       "  </tbody>\n",
       "</table>\n",
       "<p>42451 rows × 2 columns</p>\n",
       "</div>"
      ],
      "text/plain": [
       "                    host_listings_count  host_total_listings_count\n",
       "id                                                                \n",
       "777451666060243581                  1.0                        1.0\n",
       "698097753730921190                  4.0                        5.0\n",
       "13063118                           15.0                       22.0\n",
       "39337076                            4.0                        6.0\n",
       "13077628                            1.0                        6.0\n",
       "...                                 ...                        ...\n",
       "17286704                            3.0                        3.0\n",
       "751077061221390362                  5.0                        5.0\n",
       "663030240787490751                  5.0                        7.0\n",
       "15876540                            3.0                        3.0\n",
       "625415450215801684                  8.0                        9.0\n",
       "\n",
       "[42451 rows x 2 columns]"
      ]
     },
     "execution_count": 20,
     "metadata": {},
     "output_type": "execute_result"
    }
   ],
   "source": [
    "df1[['host_listings_count', 'host_total_listings_count']]"
   ]
  },
  {
   "attachments": {},
   "cell_type": "markdown",
   "metadata": {},
   "source": [
    "Analizamos de las columnas restantes con cuales nos quedamos y que hacemos con sus valores nulos:"
   ]
  },
  {
   "cell_type": "code",
   "execution_count": 21,
   "metadata": {},
   "outputs": [],
   "source": [
    "# Elimino las columnas con valores nulos que no quiero para nada:\n",
    "df1 = df1.drop(columns=['bedrooms', 'description', 'beds','bathrooms_text','maximum_nights_avg_ntm', 'minimum_nights_avg_ntm', 'maximum_maximum_nights','minimum_maximum_nights','host_since','host_thumbnail_url','host_identity_verified','host_has_profile_pic','host_verifications','host_picture_url','host_listings_count','host_total_listings_count'] , axis=1)"
   ]
  },
  {
   "attachments": {},
   "cell_type": "markdown",
   "metadata": {},
   "source": [
    "Me parece interesante saber si es superhost\n",
    "\n",
    "'host_is_superhost'\n",
    "\n",
    "Me parece interesante saber si el minimo de noches para los que tienen mas de un alojamiento es de 30 dias sino incumplen con la ley porque solo pueden ofrecer estancias cortas los anfitriones que ofrecen su primera residencia. Si ofrecen su segunda o cualquier otra residencia minimo tienen que ofrecer 30 dias.\n",
    "'maximum_minimum_nights' ,'minimum_minimum_nights','host_name','name',"
   ]
  },
  {
   "cell_type": "code",
   "execution_count": 22,
   "metadata": {},
   "outputs": [],
   "source": [
    "# Rellenamos los valores nulos de las variables que si que nos interesan en principio utilizar:\n",
    "\n",
    "# Rellenar variables string/objeto con '?'\n",
    "string_columns = df1.select_dtypes(include=['object']).columns.tolist()\n",
    "numerical_columns = df1.select_dtypes(include=['int', 'float']).columns.tolist()\n",
    "df1[string_columns] = df1[string_columns].fillna('?')\n",
    "\n",
    "# Rellenar variables numéricas con 0\n",
    "df1[numerical_columns] = df1[numerical_columns].fillna(0)"
   ]
  },
  {
   "cell_type": "code",
   "execution_count": 23,
   "metadata": {},
   "outputs": [
    {
     "data": {
      "text/plain": [
       "<Axes: ylabel='id'>"
      ]
     },
     "execution_count": 23,
     "metadata": {},
     "output_type": "execute_result"
    },
    {
     "data": {
      "image/png": "[encoded data removed]",
      "text/plain": [
       "<Figure size 640x480 with 1 Axes>"
      ]
     },
     "metadata": {},
     "output_type": "display_data"
    }
   ],
   "source": [
    "sns.heatmap(df1.isnull(),yticklabels=False,cbar=False,cmap='inferno')"
   ]
  },
  {
   "attachments": {},
   "cell_type": "markdown",
   "metadata": {},
   "source": [
    "Perfecto! ya no hay valores nulos!!!"
   ]
  },
  {
   "attachments": {},
   "cell_type": "markdown",
   "metadata": {},
   "source": [
    "#### Duplicados:"
   ]
  },
  {
   "cell_type": "code",
   "execution_count": 24,
   "metadata": {},
   "outputs": [
    {
     "data": {
      "text/plain": [
       "0"
      ]
     },
     "execution_count": 24,
     "metadata": {},
     "output_type": "execute_result"
    }
   ],
   "source": [
    "df1.duplicated().sum()"
   ]
  },
  {
   "attachments": {},
   "cell_type": "markdown",
   "metadata": {},
   "source": [
    "#### Eliminación variables inútiles:"
   ]
  },
  {
   "attachments": {},
   "cell_type": "markdown",
   "metadata": {},
   "source": [
    "En una excel he compiado todas las variables del database con la información relacionada y una vez revisadas he hecho una selección de ellas, por lo tanto, eliminaremos a continuación las que no me parecen interesantes para analizar: "
   ]
  },
  {
   "cell_type": "code",
   "execution_count": 25,
   "metadata": {},
   "outputs": [
    {
     "data": {
      "text/plain": [
       "Index(['listing_url', 'scrape_id', 'last_scraped', 'source', 'name',\n",
       "       'picture_url', 'host_id', 'host_url', 'host_name', 'host_is_superhost',\n",
       "       'neighbourhood_cleansed', 'neighbourhood_group_cleansed', 'latitude',\n",
       "       'longitude', 'property_type', 'room_type', 'accommodates', 'amenities',\n",
       "       'price', 'minimum_nights', 'maximum_nights', 'minimum_minimum_nights',\n",
       "       'maximum_minimum_nights', 'has_availability', 'availability_30',\n",
       "       'availability_60', 'availability_90', 'availability_365',\n",
       "       'calendar_last_scraped', 'number_of_reviews', 'number_of_reviews_ltm',\n",
       "       'number_of_reviews_l30d', 'instant_bookable',\n",
       "       'calculated_host_listings_count',\n",
       "       'calculated_host_listings_count_entire_homes',\n",
       "       'calculated_host_listings_count_private_rooms',\n",
       "       'calculated_host_listings_count_shared_rooms'],\n",
       "      dtype='object')"
      ]
     },
     "execution_count": 25,
     "metadata": {},
     "output_type": "execute_result"
    }
   ],
   "source": [
    "df1.columns"
   ]
  },
  {
   "attachments": {},
   "cell_type": "markdown",
   "metadata": {},
   "source": [
    "Elimino las columnas que no quiero analizar:"
   ]
  },
  {
   "cell_type": "code",
   "execution_count": 26,
   "metadata": {},
   "outputs": [],
   "source": [
    "df1 = df1.drop(columns=['listing_url', 'scrape_id', 'last_scraped', 'source','picture_url','host_url','amenities','maximum_nights', 'has_availability', 'availability_30',\n",
    "       'availability_60', 'availability_90', 'availability_365',\n",
    "       'calendar_last_scraped','number_of_reviews_ltm',\n",
    "       'number_of_reviews_l30d'])"
   ]
  },
  {
   "cell_type": "code",
   "execution_count": 27,
   "metadata": {},
   "outputs": [
    {
     "data": {
      "text/plain": [
       "Index(['name', 'host_id', 'host_name', 'host_is_superhost',\n",
       "       'neighbourhood_cleansed', 'neighbourhood_group_cleansed', 'latitude',\n",
       "       'longitude', 'property_type', 'room_type', 'accommodates', 'price',\n",
       "       'minimum_nights', 'minimum_minimum_nights', 'maximum_minimum_nights',\n",
       "       'number_of_reviews', 'instant_bookable',\n",
       "       'calculated_host_listings_count',\n",
       "       'calculated_host_listings_count_entire_homes',\n",
       "       'calculated_host_listings_count_private_rooms',\n",
       "       'calculated_host_listings_count_shared_rooms'],\n",
       "      dtype='object')"
      ]
     },
     "execution_count": 27,
     "metadata": {},
     "output_type": "execute_result"
    }
   ],
   "source": [
    "df1.columns"
   ]
  },
  {
   "attachments": {},
   "cell_type": "markdown",
   "metadata": {},
   "source": [
    "#### Tipo de datos de las variables:"
   ]
  },
  {
   "attachments": {},
   "cell_type": "markdown",
   "metadata": {},
   "source": [
    "Vamos a ver el tipo de dato que presentan las variables:"
   ]
  },
  {
   "cell_type": "code",
   "execution_count": 28,
   "metadata": {},
   "outputs": [
    {
     "data": {
      "text/plain": [
       "name                                             object\n",
       "host_id                                           int64\n",
       "host_name                                        object\n",
       "host_is_superhost                                object\n",
       "neighbourhood_cleansed                           object\n",
       "neighbourhood_group_cleansed                     object\n",
       "latitude                                        float64\n",
       "longitude                                       float64\n",
       "property_type                                    object\n",
       "room_type                                        object\n",
       "accommodates                                      int64\n",
       "price                                            object\n",
       "minimum_nights                                    int64\n",
       "minimum_minimum_nights                          float64\n",
       "maximum_minimum_nights                          float64\n",
       "number_of_reviews                                 int64\n",
       "instant_bookable                                 object\n",
       "calculated_host_listings_count                    int64\n",
       "calculated_host_listings_count_entire_homes       int64\n",
       "calculated_host_listings_count_private_rooms      int64\n",
       "calculated_host_listings_count_shared_rooms       int64\n",
       "dtype: object"
      ]
     },
     "execution_count": 28,
     "metadata": {},
     "output_type": "execute_result"
    }
   ],
   "source": [
    "df1.dtypes"
   ]
  },
  {
   "attachments": {},
   "cell_type": "markdown",
   "metadata": {},
   "source": [
    "Host_id vamos a cambiarlo por string:"
   ]
  },
  {
   "cell_type": "code",
   "execution_count": 29,
   "metadata": {},
   "outputs": [],
   "source": [
    "df1['host_id']=df1['host_id'].astype(str)"
   ]
  },
  {
   "attachments": {},
   "cell_type": "markdown",
   "metadata": {},
   "source": [
    "Vemos que price deberia ser una cifra, vamos a ver que aspecto tiene y como podemos limpiarlo:"
   ]
  },
  {
   "cell_type": "code",
   "execution_count": 30,
   "metadata": {},
   "outputs": [
    {
     "data": {
      "text/plain": [
       "id\n",
       "777451666060243581      $399.00\n",
       "698097753730921190       $46.00\n",
       "13063118                $408.00\n",
       "39337076                 $80.00\n",
       "13077628              $2,138.00\n",
       "                        ...    \n",
       "17286704                 $40.00\n",
       "751077061221390362       $48.00\n",
       "663030240787490751       $46.00\n",
       "15876540                 $68.00\n",
       "625415450215801684       $48.00\n",
       "Name: price, Length: 42451, dtype: object"
      ]
     },
     "execution_count": 30,
     "metadata": {},
     "output_type": "execute_result"
    }
   ],
   "source": [
    "df1['price']"
   ]
  },
  {
   "cell_type": "code",
   "execution_count": 31,
   "metadata": {},
   "outputs": [],
   "source": [
    "#[\\$] es un patrón de búsqueda que busca coincidencias con los caracteres \"$\" y \",\"\n",
    "# Al especificar regex=True, se le indica a la función replace() que interprete el primer argumento \n",
    "# #(en este caso, [\\$,]) como una expresión regular en lugar de una cadena de texto literal.\n",
    "df1['price'] = df1['price'].replace('[\\$,]', '', regex=True).astype(float)"
   ]
  },
  {
   "cell_type": "code",
   "execution_count": 32,
   "metadata": {},
   "outputs": [
    {
     "data": {
      "text/plain": [
       "name                                             object\n",
       "host_id                                          object\n",
       "host_name                                        object\n",
       "host_is_superhost                                object\n",
       "neighbourhood_cleansed                           object\n",
       "neighbourhood_group_cleansed                     object\n",
       "latitude                                        float64\n",
       "longitude                                       float64\n",
       "property_type                                    object\n",
       "room_type                                        object\n",
       "accommodates                                      int64\n",
       "price                                           float64\n",
       "minimum_nights                                    int64\n",
       "minimum_minimum_nights                          float64\n",
       "maximum_minimum_nights                          float64\n",
       "number_of_reviews                                 int64\n",
       "instant_bookable                                 object\n",
       "calculated_host_listings_count                    int64\n",
       "calculated_host_listings_count_entire_homes       int64\n",
       "calculated_host_listings_count_private_rooms      int64\n",
       "calculated_host_listings_count_shared_rooms       int64\n",
       "dtype: object"
      ]
     },
     "execution_count": 32,
     "metadata": {},
     "output_type": "execute_result"
    }
   ],
   "source": [
    "df1.dtypes"
   ]
  },
  {
   "attachments": {},
   "cell_type": "markdown",
   "metadata": {},
   "source": [
    "#### Outliers de price:"
   ]
  },
  {
   "cell_type": "code",
   "execution_count": 45,
   "metadata": {},
   "outputs": [],
   "source": [
    "def outliers_df(df, columna):\n",
    "    Q1 = df[columna].quantile(0.25)\n",
    "    Q3 = df[columna].quantile(0.75)\n",
    "    IQR = Q3 - Q1   \n",
    "    df = df[(df[columna] >= Q1-1.5*IQR) & (df[columna] <= Q3 + 1.5*IQR)]\n",
    "    return df\n",
    "\n",
    "df_out = df1.copy()\n",
    "columna_outliers = 'price'  # Nombre de la columna con outliers\n",
    "df_out = outliers_df(df_out, columna_outliers)"
   ]
  },
  {
   "cell_type": "code",
   "execution_count": 46,
   "metadata": {},
   "outputs": [
    {
     "data": {
      "text/plain": [
       "481.0"
      ]
     },
     "execution_count": 46,
     "metadata": {},
     "output_type": "execute_result"
    }
   ],
   "source": [
    "df_out['price'].max()"
   ]
  },
  {
   "cell_type": "code",
   "execution_count": 47,
   "metadata": {},
   "outputs": [
    {
     "data": {
      "text/plain": [
       "99999.0"
      ]
     },
     "execution_count": 47,
     "metadata": {},
     "output_type": "execute_result"
    }
   ],
   "source": [
    "df1['price'].max()"
   ]
  },
  {
   "cell_type": "code",
   "execution_count": 48,
   "metadata": {},
   "outputs": [
    {
     "data": {
      "text/plain": [
       "16"
      ]
     },
     "execution_count": 48,
     "metadata": {},
     "output_type": "execute_result"
    }
   ],
   "source": [
    "df1['accommodates'].max()"
   ]
  },
  {
   "cell_type": "code",
   "execution_count": 49,
   "metadata": {},
   "outputs": [
    {
     "data": {
      "text/plain": [
       "16"
      ]
     },
     "execution_count": 49,
     "metadata": {},
     "output_type": "execute_result"
    }
   ],
   "source": [
    "df_out['accommodates'].max()"
   ]
  },
  {
   "cell_type": "code",
   "execution_count": 42,
   "metadata": {},
   "outputs": [
    {
     "data": {
      "text/plain": [
       "Index(['name', 'host_id', 'host_name', 'host_is_superhost',\n",
       "       'neighbourhood_cleansed', 'neighbourhood_group_cleansed', 'latitude',\n",
       "       'longitude', 'property_type', 'room_type', 'accommodates', 'price',\n",
       "       'minimum_nights', 'minimum_minimum_nights', 'maximum_minimum_nights',\n",
       "       'number_of_reviews', 'instant_bookable',\n",
       "       'calculated_host_listings_count',\n",
       "       'calculated_host_listings_count_entire_homes',\n",
       "       'calculated_host_listings_count_private_rooms',\n",
       "       'calculated_host_listings_count_shared_rooms'],\n",
       "      dtype='object')"
      ]
     },
     "execution_count": 42,
     "metadata": {},
     "output_type": "execute_result"
    }
   ],
   "source": [
    "df_out.columns"
   ]
  },
  {
   "cell_type": "code",
   "execution_count": 50,
   "metadata": {},
   "outputs": [
    {
     "data": {
      "text/html": [
       "<div>\n",
       "<style scoped>\n",
       "    .dataframe tbody tr th:only-of-type {\n",
       "        vertical-align: middle;\n",
       "    }\n",
       "\n",
       "    .dataframe tbody tr th {\n",
       "        vertical-align: top;\n",
       "    }\n",
       "\n",
       "    .dataframe thead th {\n",
       "        text-align: right;\n",
       "    }\n",
       "</style>\n",
       "<table border=\"1\" class=\"dataframe\">\n",
       "  <thead>\n",
       "    <tr style=\"text-align: right;\">\n",
       "      <th></th>\n",
       "      <th>name</th>\n",
       "      <th>host_id</th>\n",
       "      <th>host_name</th>\n",
       "      <th>host_is_superhost</th>\n",
       "      <th>neighbourhood_cleansed</th>\n",
       "      <th>neighbourhood_group_cleansed</th>\n",
       "      <th>property_type</th>\n",
       "      <th>room_type</th>\n",
       "      <th>accommodates</th>\n",
       "      <th>price</th>\n",
       "      <th>minimum_nights</th>\n",
       "      <th>minimum_minimum_nights</th>\n",
       "      <th>maximum_minimum_nights</th>\n",
       "      <th>number_of_reviews</th>\n",
       "      <th>instant_bookable</th>\n",
       "      <th>calculated_host_listings_count</th>\n",
       "      <th>calculated_host_listings_count_entire_homes</th>\n",
       "      <th>calculated_host_listings_count_private_rooms</th>\n",
       "      <th>calculated_host_listings_count_shared_rooms</th>\n",
       "    </tr>\n",
       "    <tr>\n",
       "      <th>id</th>\n",
       "      <th></th>\n",
       "      <th></th>\n",
       "      <th></th>\n",
       "      <th></th>\n",
       "      <th></th>\n",
       "      <th></th>\n",
       "      <th></th>\n",
       "      <th></th>\n",
       "      <th></th>\n",
       "      <th></th>\n",
       "      <th></th>\n",
       "      <th></th>\n",
       "      <th></th>\n",
       "      <th></th>\n",
       "      <th></th>\n",
       "      <th></th>\n",
       "      <th></th>\n",
       "      <th></th>\n",
       "      <th></th>\n",
       "    </tr>\n",
       "  </thead>\n",
       "  <tbody>\n",
       "    <tr>\n",
       "      <th>777451666060243581</th>\n",
       "      <td>Family oriented home</td>\n",
       "      <td>490709958</td>\n",
       "      <td>Dana</td>\n",
       "      <td>f</td>\n",
       "      <td>Castaic Canyons</td>\n",
       "      <td>Unincorporated Areas</td>\n",
       "      <td>Private room in home</td>\n",
       "      <td>Private room</td>\n",
       "      <td>7</td>\n",
       "      <td>399.0</td>\n",
       "      <td>3</td>\n",
       "      <td>3.0</td>\n",
       "      <td>3.0</td>\n",
       "      <td>0</td>\n",
       "      <td>f</td>\n",
       "      <td>1</td>\n",
       "      <td>0</td>\n",
       "      <td>1</td>\n",
       "      <td>0</td>\n",
       "    </tr>\n",
       "    <tr>\n",
       "      <th>698097753730921190</th>\n",
       "      <td>方便易居驿站</td>\n",
       "      <td>444692513</td>\n",
       "      <td>Hanna</td>\n",
       "      <td>t</td>\n",
       "      <td>Pomona</td>\n",
       "      <td>Other Cities</td>\n",
       "      <td>Private room in villa</td>\n",
       "      <td>Private room</td>\n",
       "      <td>2</td>\n",
       "      <td>46.0</td>\n",
       "      <td>3</td>\n",
       "      <td>6.0</td>\n",
       "      <td>6.0</td>\n",
       "      <td>5</td>\n",
       "      <td>f</td>\n",
       "      <td>4</td>\n",
       "      <td>0</td>\n",
       "      <td>4</td>\n",
       "      <td>0</td>\n",
       "    </tr>\n",
       "    <tr>\n",
       "      <th>13063118</th>\n",
       "      <td>TERRANEA OCEANFRNT 1BR CASITA -203 RSRT AMENIT...</td>\n",
       "      <td>41736985</td>\n",
       "      <td>Beth</td>\n",
       "      <td>f</td>\n",
       "      <td>Rancho Palos Verdes</td>\n",
       "      <td>Other Cities</td>\n",
       "      <td>Private room in resort</td>\n",
       "      <td>Private room</td>\n",
       "      <td>3</td>\n",
       "      <td>408.0</td>\n",
       "      <td>3</td>\n",
       "      <td>2.0</td>\n",
       "      <td>3.0</td>\n",
       "      <td>53</td>\n",
       "      <td>f</td>\n",
       "      <td>10</td>\n",
       "      <td>5</td>\n",
       "      <td>5</td>\n",
       "      <td>0</td>\n",
       "    </tr>\n",
       "    <tr>\n",
       "      <th>39337076</th>\n",
       "      <td>Brand New Duplex Near World Cruise Center</td>\n",
       "      <td>208375458</td>\n",
       "      <td>Jae</td>\n",
       "      <td>t</td>\n",
       "      <td>Rancho Palos Verdes</td>\n",
       "      <td>Other Cities</td>\n",
       "      <td>Private room in home</td>\n",
       "      <td>Private room</td>\n",
       "      <td>2</td>\n",
       "      <td>80.0</td>\n",
       "      <td>2</td>\n",
       "      <td>2.0</td>\n",
       "      <td>2.0</td>\n",
       "      <td>44</td>\n",
       "      <td>t</td>\n",
       "      <td>4</td>\n",
       "      <td>0</td>\n",
       "      <td>4</td>\n",
       "      <td>0</td>\n",
       "    </tr>\n",
       "    <tr>\n",
       "      <th>51859630</th>\n",
       "      <td>Single BR with King size bed, and shared bathroom</td>\n",
       "      <td>28407733</td>\n",
       "      <td>Arthur</td>\n",
       "      <td>f</td>\n",
       "      <td>San Pedro</td>\n",
       "      <td>City of Los Angeles</td>\n",
       "      <td>Private room in home</td>\n",
       "      <td>Private room</td>\n",
       "      <td>1</td>\n",
       "      <td>55.0</td>\n",
       "      <td>2</td>\n",
       "      <td>2.0</td>\n",
       "      <td>2.0</td>\n",
       "      <td>3</td>\n",
       "      <td>f</td>\n",
       "      <td>1</td>\n",
       "      <td>0</td>\n",
       "      <td>1</td>\n",
       "      <td>0</td>\n",
       "    </tr>\n",
       "    <tr>\n",
       "      <th>...</th>\n",
       "      <td>...</td>\n",
       "      <td>...</td>\n",
       "      <td>...</td>\n",
       "      <td>...</td>\n",
       "      <td>...</td>\n",
       "      <td>...</td>\n",
       "      <td>...</td>\n",
       "      <td>...</td>\n",
       "      <td>...</td>\n",
       "      <td>...</td>\n",
       "      <td>...</td>\n",
       "      <td>...</td>\n",
       "      <td>...</td>\n",
       "      <td>...</td>\n",
       "      <td>...</td>\n",
       "      <td>...</td>\n",
       "      <td>...</td>\n",
       "      <td>...</td>\n",
       "      <td>...</td>\n",
       "    </tr>\n",
       "    <tr>\n",
       "      <th>17286704</th>\n",
       "      <td>2. Private Rm, Large 3 Bedrm House RV/TruckPar...</td>\n",
       "      <td>38106741</td>\n",
       "      <td>James</td>\n",
       "      <td>t</td>\n",
       "      <td>Lancaster</td>\n",
       "      <td>Other Cities</td>\n",
       "      <td>Private room in home</td>\n",
       "      <td>Private room</td>\n",
       "      <td>2</td>\n",
       "      <td>40.0</td>\n",
       "      <td>1</td>\n",
       "      <td>1.0</td>\n",
       "      <td>1.0</td>\n",
       "      <td>24</td>\n",
       "      <td>f</td>\n",
       "      <td>3</td>\n",
       "      <td>0</td>\n",
       "      <td>3</td>\n",
       "      <td>0</td>\n",
       "    </tr>\n",
       "    <tr>\n",
       "      <th>751077061221390362</th>\n",
       "      <td>Private Half Bathroom | Master Bedroom</td>\n",
       "      <td>412524751</td>\n",
       "      <td>Samantha</td>\n",
       "      <td>f</td>\n",
       "      <td>West Whittier-Los Nietos</td>\n",
       "      <td>Unincorporated Areas</td>\n",
       "      <td>Private room in home</td>\n",
       "      <td>Private room</td>\n",
       "      <td>1</td>\n",
       "      <td>48.0</td>\n",
       "      <td>3</td>\n",
       "      <td>3.0</td>\n",
       "      <td>3.0</td>\n",
       "      <td>3</td>\n",
       "      <td>f</td>\n",
       "      <td>5</td>\n",
       "      <td>0</td>\n",
       "      <td>5</td>\n",
       "      <td>0</td>\n",
       "    </tr>\n",
       "    <tr>\n",
       "      <th>663030240787490751</th>\n",
       "      <td>RoomA</td>\n",
       "      <td>38884077</td>\n",
       "      <td>Renee</td>\n",
       "      <td>f</td>\n",
       "      <td>Diamond Bar</td>\n",
       "      <td>Other Cities</td>\n",
       "      <td>Private room in villa</td>\n",
       "      <td>Private room</td>\n",
       "      <td>1</td>\n",
       "      <td>46.0</td>\n",
       "      <td>2</td>\n",
       "      <td>2.0</td>\n",
       "      <td>2.0</td>\n",
       "      <td>1</td>\n",
       "      <td>f</td>\n",
       "      <td>5</td>\n",
       "      <td>0</td>\n",
       "      <td>5</td>\n",
       "      <td>0</td>\n",
       "    </tr>\n",
       "    <tr>\n",
       "      <th>15876540</th>\n",
       "      <td>En-Suite Room &amp; Hotel Inspired Amenities.</td>\n",
       "      <td>102942389</td>\n",
       "      <td>Thomas</td>\n",
       "      <td>t</td>\n",
       "      <td>El Monte</td>\n",
       "      <td>Other Cities</td>\n",
       "      <td>Private room in home</td>\n",
       "      <td>Private room</td>\n",
       "      <td>2</td>\n",
       "      <td>68.0</td>\n",
       "      <td>1</td>\n",
       "      <td>1.0</td>\n",
       "      <td>1.0</td>\n",
       "      <td>283</td>\n",
       "      <td>t</td>\n",
       "      <td>3</td>\n",
       "      <td>0</td>\n",
       "      <td>3</td>\n",
       "      <td>0</td>\n",
       "    </tr>\n",
       "    <tr>\n",
       "      <th>625415450215801684</th>\n",
       "      <td>安静整洁的欢乐别墅1</td>\n",
       "      <td>192377364</td>\n",
       "      <td>Camila</td>\n",
       "      <td>f</td>\n",
       "      <td>La Puente</td>\n",
       "      <td>Other Cities</td>\n",
       "      <td>Private room in villa</td>\n",
       "      <td>Private room</td>\n",
       "      <td>1</td>\n",
       "      <td>48.0</td>\n",
       "      <td>30</td>\n",
       "      <td>30.0</td>\n",
       "      <td>30.0</td>\n",
       "      <td>1</td>\n",
       "      <td>t</td>\n",
       "      <td>8</td>\n",
       "      <td>0</td>\n",
       "      <td>8</td>\n",
       "      <td>0</td>\n",
       "    </tr>\n",
       "  </tbody>\n",
       "</table>\n",
       "<p>38348 rows × 19 columns</p>\n",
       "</div>"
      ],
      "text/plain": [
       "                                                                 name  \\\n",
       "id                                                                      \n",
       "777451666060243581                               Family oriented home   \n",
       "698097753730921190                                             方便易居驿站   \n",
       "13063118            TERRANEA OCEANFRNT 1BR CASITA -203 RSRT AMENIT...   \n",
       "39337076                    Brand New Duplex Near World Cruise Center   \n",
       "51859630            Single BR with King size bed, and shared bathroom   \n",
       "...                                                               ...   \n",
       "17286704            2. Private Rm, Large 3 Bedrm House RV/TruckPar...   \n",
       "751077061221390362             Private Half Bathroom | Master Bedroom   \n",
       "663030240787490751                                              RoomA   \n",
       "15876540                    En-Suite Room & Hotel Inspired Amenities.   \n",
       "625415450215801684                                         安静整洁的欢乐别墅1   \n",
       "\n",
       "                      host_id host_name host_is_superhost  \\\n",
       "id                                                          \n",
       "777451666060243581  490709958      Dana                 f   \n",
       "698097753730921190  444692513     Hanna                 t   \n",
       "13063118             41736985      Beth                 f   \n",
       "39337076            208375458       Jae                 t   \n",
       "51859630             28407733    Arthur                 f   \n",
       "...                       ...       ...               ...   \n",
       "17286704             38106741     James                 t   \n",
       "751077061221390362  412524751  Samantha                 f   \n",
       "663030240787490751   38884077     Renee                 f   \n",
       "15876540            102942389    Thomas                 t   \n",
       "625415450215801684  192377364    Camila                 f   \n",
       "\n",
       "                      neighbourhood_cleansed neighbourhood_group_cleansed  \\\n",
       "id                                                                          \n",
       "777451666060243581           Castaic Canyons         Unincorporated Areas   \n",
       "698097753730921190                    Pomona                 Other Cities   \n",
       "13063118                 Rancho Palos Verdes                 Other Cities   \n",
       "39337076                 Rancho Palos Verdes                 Other Cities   \n",
       "51859630                           San Pedro          City of Los Angeles   \n",
       "...                                      ...                          ...   \n",
       "17286704                           Lancaster                 Other Cities   \n",
       "751077061221390362  West Whittier-Los Nietos         Unincorporated Areas   \n",
       "663030240787490751               Diamond Bar                 Other Cities   \n",
       "15876540                            El Monte                 Other Cities   \n",
       "625415450215801684                 La Puente                 Other Cities   \n",
       "\n",
       "                             property_type     room_type  accommodates  price  \\\n",
       "id                                                                              \n",
       "777451666060243581    Private room in home  Private room             7  399.0   \n",
       "698097753730921190   Private room in villa  Private room             2   46.0   \n",
       "13063118            Private room in resort  Private room             3  408.0   \n",
       "39337076              Private room in home  Private room             2   80.0   \n",
       "51859630              Private room in home  Private room             1   55.0   \n",
       "...                                    ...           ...           ...    ...   \n",
       "17286704              Private room in home  Private room             2   40.0   \n",
       "751077061221390362    Private room in home  Private room             1   48.0   \n",
       "663030240787490751   Private room in villa  Private room             1   46.0   \n",
       "15876540              Private room in home  Private room             2   68.0   \n",
       "625415450215801684   Private room in villa  Private room             1   48.0   \n",
       "\n",
       "                    minimum_nights  minimum_minimum_nights  \\\n",
       "id                                                           \n",
       "777451666060243581               3                     3.0   \n",
       "698097753730921190               3                     6.0   \n",
       "13063118                         3                     2.0   \n",
       "39337076                         2                     2.0   \n",
       "51859630                         2                     2.0   \n",
       "...                            ...                     ...   \n",
       "17286704                         1                     1.0   \n",
       "751077061221390362               3                     3.0   \n",
       "663030240787490751               2                     2.0   \n",
       "15876540                         1                     1.0   \n",
       "625415450215801684              30                    30.0   \n",
       "\n",
       "                    maximum_minimum_nights  number_of_reviews  \\\n",
       "id                                                              \n",
       "777451666060243581                     3.0                  0   \n",
       "698097753730921190                     6.0                  5   \n",
       "13063118                               3.0                 53   \n",
       "39337076                               2.0                 44   \n",
       "51859630                               2.0                  3   \n",
       "...                                    ...                ...   \n",
       "17286704                               1.0                 24   \n",
       "751077061221390362                     3.0                  3   \n",
       "663030240787490751                     2.0                  1   \n",
       "15876540                               1.0                283   \n",
       "625415450215801684                    30.0                  1   \n",
       "\n",
       "                   instant_bookable  calculated_host_listings_count  \\\n",
       "id                                                                    \n",
       "777451666060243581                f                               1   \n",
       "698097753730921190                f                               4   \n",
       "13063118                          f                              10   \n",
       "39337076                          t                               4   \n",
       "51859630                          f                               1   \n",
       "...                             ...                             ...   \n",
       "17286704                          f                               3   \n",
       "751077061221390362                f                               5   \n",
       "663030240787490751                f                               5   \n",
       "15876540                          t                               3   \n",
       "625415450215801684                t                               8   \n",
       "\n",
       "                    calculated_host_listings_count_entire_homes  \\\n",
       "id                                                                \n",
       "777451666060243581                                            0   \n",
       "698097753730921190                                            0   \n",
       "13063118                                                      5   \n",
       "39337076                                                      0   \n",
       "51859630                                                      0   \n",
       "...                                                         ...   \n",
       "17286704                                                      0   \n",
       "751077061221390362                                            0   \n",
       "663030240787490751                                            0   \n",
       "15876540                                                      0   \n",
       "625415450215801684                                            0   \n",
       "\n",
       "                    calculated_host_listings_count_private_rooms  \\\n",
       "id                                                                 \n",
       "777451666060243581                                             1   \n",
       "698097753730921190                                             4   \n",
       "13063118                                                       5   \n",
       "39337076                                                       4   \n",
       "51859630                                                       1   \n",
       "...                                                          ...   \n",
       "17286704                                                       3   \n",
       "751077061221390362                                             5   \n",
       "663030240787490751                                             5   \n",
       "15876540                                                       3   \n",
       "625415450215801684                                             8   \n",
       "\n",
       "                    calculated_host_listings_count_shared_rooms  \n",
       "id                                                               \n",
       "777451666060243581                                            0  \n",
       "698097753730921190                                            0  \n",
       "13063118                                                      0  \n",
       "39337076                                                      0  \n",
       "51859630                                                      0  \n",
       "...                                                         ...  \n",
       "17286704                                                      0  \n",
       "751077061221390362                                            0  \n",
       "663030240787490751                                            0  \n",
       "15876540                                                      0  \n",
       "625415450215801684                                            0  \n",
       "\n",
       "[38348 rows x 19 columns]"
      ]
     },
     "execution_count": 50,
     "metadata": {},
     "output_type": "execute_result"
    }
   ],
   "source": [
    "df_out.drop(columns=['latitude',\n",
    "       'longitude'])"
   ]
  },
  {
   "attachments": {},
   "cell_type": "markdown",
   "metadata": {},
   "source": [
    "### Estado final de la limpieza"
   ]
  },
  {
   "cell_type": "code",
   "execution_count": 34,
   "metadata": {},
   "outputs": [
    {
     "name": "stdout",
     "output_type": "stream",
     "text": [
      "Después de limpiar los datos hay: 42451 observaciones o data points.\n",
      "Después de limpiar los datos hay: 21 columnas.\n"
     ]
    }
   ],
   "source": [
    "print(\"Después de limpiar los datos hay: \" + str(df1.count()[0]) + \" observaciones o data points.\")\n",
    "print(\"Después de limpiar los datos hay: \" + str(len(df1.columns)) + \" columnas.\")"
   ]
  },
  {
   "attachments": {},
   "cell_type": "markdown",
   "metadata": {},
   "source": [
    "### Exportación csv"
   ]
  },
  {
   "attachments": {},
   "cell_type": "markdown",
   "metadata": {},
   "source": [
    "El dataset limpiado:"
   ]
  },
  {
   "cell_type": "code",
   "execution_count": 34,
   "metadata": {},
   "outputs": [],
   "source": [
    "'''df1.to_csv('clean_listings_details.csv', index=False)'''"
   ]
  },
  {
   "attachments": {},
   "cell_type": "markdown",
   "metadata": {},
   "source": [
    "El dataset sin outliers de price:"
   ]
  },
  {
   "cell_type": "code",
   "execution_count": 52,
   "metadata": {},
   "outputs": [
    {
     "data": {
      "text/plain": [
       "\"df_out.to_csv('price_wo_out_list_d.csv', index=False)\""
      ]
     },
     "execution_count": 52,
     "metadata": {},
     "output_type": "execute_result"
    }
   ],
   "source": [
    "'''df_out.to_csv('price_wo_out_list_d.csv', index=False)'''"
   ]
  },
  {
   "attachments": {},
   "cell_type": "markdown",
   "metadata": {},
   "source": [
    "# Análisis exploratorio"
   ]
  },
  {
   "cell_type": "code",
   "execution_count": null,
   "metadata": {},
   "outputs": [],
   "source": []
  }
 ],
 "metadata": {
  "kernelspec": {
   "display_name": "Python 3",
   "language": "python",
   "name": "python3"
  },
  "language_info": {
   "codemirror_mode": {
    "name": "ipython",
    "version": 3
   },
   "file_extension": ".py",
   "mimetype": "text/x-python",
   "name": "python",
   "nbconvert_exporter": "python",
   "pygments_lexer": "ipython3",
   "version": "3.10.10"
  },
  "orig_nbformat": 4
 },
 "nbformat": 4,
 "nbformat_minor": 2
}
