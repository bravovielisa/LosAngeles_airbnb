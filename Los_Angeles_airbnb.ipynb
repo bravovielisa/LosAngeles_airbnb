{
 "cells": [
  {
   "attachments": {},
   "cell_type": "markdown",
   "metadata": {},
   "source": [
    "# Preprocesamiento"
   ]
  },
  {
   "attachments": {},
   "cell_type": "markdown",
   "metadata": {},
   "source": [
    "### Importación módulos"
   ]
  },
  {
   "cell_type": "code",
   "execution_count": 2,
   "metadata": {},
   "outputs": [
    {
     "name": "stdout",
     "output_type": "stream",
     "text": [
      "Requirement already satisfied: geopandas in c:\\users\\user\\appdata\\local\\programs\\python\\python310\\lib\\site-packages (0.13.2)\n",
      "Requirement already satisfied: fiona>=1.8.19 in c:\\users\\user\\appdata\\local\\programs\\python\\python310\\lib\\site-packages (from geopandas) (1.9.4.post1)\n",
      "Requirement already satisfied: packaging in c:\\users\\user\\appdata\\roaming\\python\\python310\\site-packages (from geopandas) (23.1)\n",
      "Requirement already satisfied: pandas>=1.1.0 in c:\\users\\user\\appdata\\local\\programs\\python\\python310\\lib\\site-packages (from geopandas) (2.0.2)\n",
      "Requirement already satisfied: pyproj>=3.0.1 in c:\\users\\user\\appdata\\local\\programs\\python\\python310\\lib\\site-packages (from geopandas) (3.6.0)\n",
      "Requirement already satisfied: shapely>=1.7.1 in c:\\users\\user\\appdata\\local\\programs\\python\\python310\\lib\\site-packages (from geopandas) (2.0.1)\n",
      "Requirement already satisfied: attrs>=19.2.0 in c:\\users\\user\\appdata\\local\\programs\\python\\python310\\lib\\site-packages (from fiona>=1.8.19->geopandas) (23.1.0)\n",
      "Requirement already satisfied: certifi in c:\\users\\user\\appdata\\local\\programs\\python\\python310\\lib\\site-packages (from fiona>=1.8.19->geopandas) (2023.5.7)\n",
      "Requirement already satisfied: click~=8.0 in c:\\users\\user\\appdata\\local\\programs\\python\\python310\\lib\\site-packages (from fiona>=1.8.19->geopandas) (8.1.3)\n",
      "Requirement already satisfied: click-plugins>=1.0 in c:\\users\\user\\appdata\\local\\programs\\python\\python310\\lib\\site-packages (from fiona>=1.8.19->geopandas) (1.1.1)\n",
      "Requirement already satisfied: cligj>=0.5 in c:\\users\\user\\appdata\\local\\programs\\python\\python310\\lib\\site-packages (from fiona>=1.8.19->geopandas) (0.7.2)\n",
      "Requirement already satisfied: six in c:\\users\\user\\appdata\\roaming\\python\\python310\\site-packages (from fiona>=1.8.19->geopandas) (1.16.0)\n",
      "Requirement already satisfied: python-dateutil>=2.8.2 in c:\\users\\user\\appdata\\roaming\\python\\python310\\site-packages (from pandas>=1.1.0->geopandas) (2.8.2)\n",
      "Requirement already satisfied: pytz>=2020.1 in c:\\users\\user\\appdata\\local\\programs\\python\\python310\\lib\\site-packages (from pandas>=1.1.0->geopandas) (2023.3)\n",
      "Requirement already satisfied: tzdata>=2022.1 in c:\\users\\user\\appdata\\local\\programs\\python\\python310\\lib\\site-packages (from pandas>=1.1.0->geopandas) (2023.3)\n",
      "Requirement already satisfied: numpy>=1.21.0 in c:\\users\\user\\appdata\\local\\programs\\python\\python310\\lib\\site-packages (from pandas>=1.1.0->geopandas) (1.24.3)\n",
      "Requirement already satisfied: colorama in c:\\users\\user\\appdata\\roaming\\python\\python310\\site-packages (from click~=8.0->fiona>=1.8.19->geopandas) (0.4.6)\n",
      "Requirement already satisfied: chart_studio in c:\\users\\user\\appdata\\local\\programs\\python\\python310\\lib\\site-packages (1.1.0)\n",
      "Requirement already satisfied: plotly in c:\\users\\user\\appdata\\local\\programs\\python\\python310\\lib\\site-packages (from chart_studio) (5.15.0)\n",
      "Requirement already satisfied: requests in c:\\users\\user\\appdata\\local\\programs\\python\\python310\\lib\\site-packages (from chart_studio) (2.31.0)\n",
      "Requirement already satisfied: retrying>=1.3.3 in c:\\users\\user\\appdata\\local\\programs\\python\\python310\\lib\\site-packages (from chart_studio) (1.3.4)\n",
      "Requirement already satisfied: six in c:\\users\\user\\appdata\\roaming\\python\\python310\\site-packages (from chart_studio) (1.16.0)\n",
      "Requirement already satisfied: tenacity>=6.2.0 in c:\\users\\user\\appdata\\local\\programs\\python\\python310\\lib\\site-packages (from plotly->chart_studio) (8.2.2)\n",
      "Requirement already satisfied: packaging in c:\\users\\user\\appdata\\roaming\\python\\python310\\site-packages (from plotly->chart_studio) (23.1)\n",
      "Requirement already satisfied: charset-normalizer<4,>=2 in c:\\users\\user\\appdata\\local\\programs\\python\\python310\\lib\\site-packages (from requests->chart_studio) (3.1.0)\n",
      "Requirement already satisfied: idna<4,>=2.5 in c:\\users\\user\\appdata\\local\\programs\\python\\python310\\lib\\site-packages (from requests->chart_studio) (3.4)\n",
      "Requirement already satisfied: urllib3<3,>=1.21.1 in c:\\users\\user\\appdata\\local\\programs\\python\\python310\\lib\\site-packages (from requests->chart_studio) (2.0.2)\n",
      "Requirement already satisfied: certifi>=2017.4.17 in c:\\users\\user\\appdata\\local\\programs\\python\\python310\\lib\\site-packages (from requests->chart_studio) (2023.5.7)\n",
      "Requirement already satisfied: plotly in c:\\users\\user\\appdata\\local\\programs\\python\\python310\\lib\\site-packages (5.15.0)\n",
      "Requirement already satisfied: tenacity>=6.2.0 in c:\\users\\user\\appdata\\local\\programs\\python\\python310\\lib\\site-packages (from plotly) (8.2.2)\n",
      "Requirement already satisfied: packaging in c:\\users\\user\\appdata\\roaming\\python\\python310\\site-packages (from plotly) (23.1)\n"
     ]
    }
   ],
   "source": [
    "!pip install geopandas\n",
    "!pip install chart_studio\n",
    "!pip install plotly"
   ]
  },
  {
   "cell_type": "code",
   "execution_count": 3,
   "metadata": {},
   "outputs": [
    {
     "name": "stdout",
     "output_type": "stream",
     "text": [
      "Requirement already satisfied: folium in c:\\users\\user\\appdata\\local\\programs\\python\\python310\\lib\\site-packages (0.14.0)\n",
      "Requirement already satisfied: branca>=0.6.0 in c:\\users\\user\\appdata\\local\\programs\\python\\python310\\lib\\site-packages (from folium) (0.6.0)\n",
      "Requirement already satisfied: jinja2>=2.9 in c:\\users\\user\\appdata\\local\\programs\\python\\python310\\lib\\site-packages (from folium) (3.1.2)\n",
      "Requirement already satisfied: numpy in c:\\users\\user\\appdata\\local\\programs\\python\\python310\\lib\\site-packages (from folium) (1.24.3)\n",
      "Requirement already satisfied: requests in c:\\users\\user\\appdata\\local\\programs\\python\\python310\\lib\\site-packages (from folium) (2.31.0)\n",
      "Requirement already satisfied: MarkupSafe>=2.0 in c:\\users\\user\\appdata\\local\\programs\\python\\python310\\lib\\site-packages (from jinja2>=2.9->folium) (2.1.3)\n",
      "Requirement already satisfied: charset-normalizer<4,>=2 in c:\\users\\user\\appdata\\local\\programs\\python\\python310\\lib\\site-packages (from requests->folium) (3.1.0)\n",
      "Requirement already satisfied: idna<4,>=2.5 in c:\\users\\user\\appdata\\local\\programs\\python\\python310\\lib\\site-packages (from requests->folium) (3.4)\n",
      "Requirement already satisfied: urllib3<3,>=1.21.1 in c:\\users\\user\\appdata\\local\\programs\\python\\python310\\lib\\site-packages (from requests->folium) (2.0.2)\n",
      "Requirement already satisfied: certifi>=2017.4.17 in c:\\users\\user\\appdata\\local\\programs\\python\\python310\\lib\\site-packages (from requests->folium) (2023.5.7)\n"
     ]
    }
   ],
   "source": [
    "!pip install folium"
   ]
  },
  {
   "cell_type": "code",
   "execution_count": 4,
   "metadata": {},
   "outputs": [
    {
     "name": "stdout",
     "output_type": "stream",
     "text": [
      "Requirement already satisfied: cufflinks in c:\\users\\user\\appdata\\local\\programs\\python\\python310\\lib\\site-packages (0.17.3)\n",
      "Requirement already satisfied: numpy>=1.9.2 in c:\\users\\user\\appdata\\local\\programs\\python\\python310\\lib\\site-packages (from cufflinks) (1.24.3)\n",
      "Requirement already satisfied: pandas>=0.19.2 in c:\\users\\user\\appdata\\local\\programs\\python\\python310\\lib\\site-packages (from cufflinks) (2.0.2)\n",
      "Requirement already satisfied: plotly>=4.1.1 in c:\\users\\user\\appdata\\local\\programs\\python\\python310\\lib\\site-packages (from cufflinks) (5.15.0)\n",
      "Requirement already satisfied: six>=1.9.0 in c:\\users\\user\\appdata\\roaming\\python\\python310\\site-packages (from cufflinks) (1.16.0)\n",
      "Requirement already satisfied: colorlover>=0.2.1 in c:\\users\\user\\appdata\\local\\programs\\python\\python310\\lib\\site-packages (from cufflinks) (0.3.0)\n",
      "Requirement already satisfied: setuptools>=34.4.1 in c:\\users\\user\\appdata\\local\\programs\\python\\python310\\lib\\site-packages (from cufflinks) (65.5.0)\n",
      "Requirement already satisfied: ipython>=5.3.0 in c:\\users\\user\\appdata\\roaming\\python\\python310\\site-packages (from cufflinks) (8.13.2)\n",
      "Requirement already satisfied: ipywidgets>=7.0.0 in c:\\users\\user\\appdata\\local\\programs\\python\\python310\\lib\\site-packages (from cufflinks) (8.0.6)\n",
      "Requirement already satisfied: backcall in c:\\users\\user\\appdata\\roaming\\python\\python310\\site-packages (from ipython>=5.3.0->cufflinks) (0.2.0)\n",
      "Requirement already satisfied: decorator in c:\\users\\user\\appdata\\roaming\\python\\python310\\site-packages (from ipython>=5.3.0->cufflinks) (5.1.1)\n",
      "Requirement already satisfied: jedi>=0.16 in c:\\users\\user\\appdata\\roaming\\python\\python310\\site-packages (from ipython>=5.3.0->cufflinks) (0.18.2)\n",
      "Requirement already satisfied: matplotlib-inline in c:\\users\\user\\appdata\\roaming\\python\\python310\\site-packages (from ipython>=5.3.0->cufflinks) (0.1.6)\n",
      "Requirement already satisfied: pickleshare in c:\\users\\user\\appdata\\roaming\\python\\python310\\site-packages (from ipython>=5.3.0->cufflinks) (0.7.5)\n",
      "Requirement already satisfied: prompt-toolkit!=3.0.37,<3.1.0,>=3.0.30 in c:\\users\\user\\appdata\\roaming\\python\\python310\\site-packages (from ipython>=5.3.0->cufflinks) (3.0.38)\n",
      "Requirement already satisfied: pygments>=2.4.0 in c:\\users\\user\\appdata\\roaming\\python\\python310\\site-packages (from ipython>=5.3.0->cufflinks) (2.15.1)\n",
      "Requirement already satisfied: stack-data in c:\\users\\user\\appdata\\roaming\\python\\python310\\site-packages (from ipython>=5.3.0->cufflinks) (0.6.2)\n",
      "Requirement already satisfied: traitlets>=5 in c:\\users\\user\\appdata\\roaming\\python\\python310\\site-packages (from ipython>=5.3.0->cufflinks) (5.9.0)\n",
      "Requirement already satisfied: colorama in c:\\users\\user\\appdata\\roaming\\python\\python310\\site-packages (from ipython>=5.3.0->cufflinks) (0.4.6)\n",
      "Requirement already satisfied: ipykernel>=4.5.1 in c:\\users\\user\\appdata\\roaming\\python\\python310\\site-packages (from ipywidgets>=7.0.0->cufflinks) (6.23.1)\n",
      "Requirement already satisfied: widgetsnbextension~=4.0.7 in c:\\users\\user\\appdata\\local\\programs\\python\\python310\\lib\\site-packages (from ipywidgets>=7.0.0->cufflinks) (4.0.7)\n",
      "Requirement already satisfied: jupyterlab-widgets~=3.0.7 in c:\\users\\user\\appdata\\local\\programs\\python\\python310\\lib\\site-packages (from ipywidgets>=7.0.0->cufflinks) (3.0.7)\n",
      "Requirement already satisfied: python-dateutil>=2.8.2 in c:\\users\\user\\appdata\\roaming\\python\\python310\\site-packages (from pandas>=0.19.2->cufflinks) (2.8.2)\n",
      "Requirement already satisfied: pytz>=2020.1 in c:\\users\\user\\appdata\\local\\programs\\python\\python310\\lib\\site-packages (from pandas>=0.19.2->cufflinks) (2023.3)\n",
      "Requirement already satisfied: tzdata>=2022.1 in c:\\users\\user\\appdata\\local\\programs\\python\\python310\\lib\\site-packages (from pandas>=0.19.2->cufflinks) (2023.3)\n",
      "Requirement already satisfied: tenacity>=6.2.0 in c:\\users\\user\\appdata\\local\\programs\\python\\python310\\lib\\site-packages (from plotly>=4.1.1->cufflinks) (8.2.2)\n",
      "Requirement already satisfied: packaging in c:\\users\\user\\appdata\\roaming\\python\\python310\\site-packages (from plotly>=4.1.1->cufflinks) (23.1)\n",
      "Requirement already satisfied: comm>=0.1.1 in c:\\users\\user\\appdata\\roaming\\python\\python310\\site-packages (from ipykernel>=4.5.1->ipywidgets>=7.0.0->cufflinks) (0.1.3)\n",
      "Requirement already satisfied: debugpy>=1.6.5 in c:\\users\\user\\appdata\\roaming\\python\\python310\\site-packages (from ipykernel>=4.5.1->ipywidgets>=7.0.0->cufflinks) (1.6.7)\n",
      "Requirement already satisfied: jupyter-client>=6.1.12 in c:\\users\\user\\appdata\\roaming\\python\\python310\\site-packages (from ipykernel>=4.5.1->ipywidgets>=7.0.0->cufflinks) (8.2.0)\n",
      "Requirement already satisfied: jupyter-core!=5.0.*,>=4.12 in c:\\users\\user\\appdata\\roaming\\python\\python310\\site-packages (from ipykernel>=4.5.1->ipywidgets>=7.0.0->cufflinks) (5.3.0)\n",
      "Requirement already satisfied: nest-asyncio in c:\\users\\user\\appdata\\roaming\\python\\python310\\site-packages (from ipykernel>=4.5.1->ipywidgets>=7.0.0->cufflinks) (1.5.6)\n",
      "Requirement already satisfied: psutil in c:\\users\\user\\appdata\\roaming\\python\\python310\\site-packages (from ipykernel>=4.5.1->ipywidgets>=7.0.0->cufflinks) (5.9.5)\n",
      "Requirement already satisfied: pyzmq>=20 in c:\\users\\user\\appdata\\roaming\\python\\python310\\site-packages (from ipykernel>=4.5.1->ipywidgets>=7.0.0->cufflinks) (25.0.2)\n",
      "Requirement already satisfied: tornado>=6.1 in c:\\users\\user\\appdata\\roaming\\python\\python310\\site-packages (from ipykernel>=4.5.1->ipywidgets>=7.0.0->cufflinks) (6.3.2)\n",
      "Requirement already satisfied: parso<0.9.0,>=0.8.0 in c:\\users\\user\\appdata\\roaming\\python\\python310\\site-packages (from jedi>=0.16->ipython>=5.3.0->cufflinks) (0.8.3)\n",
      "Requirement already satisfied: wcwidth in c:\\users\\user\\appdata\\roaming\\python\\python310\\site-packages (from prompt-toolkit!=3.0.37,<3.1.0,>=3.0.30->ipython>=5.3.0->cufflinks) (0.2.6)\n",
      "Requirement already satisfied: executing>=1.2.0 in c:\\users\\user\\appdata\\roaming\\python\\python310\\site-packages (from stack-data->ipython>=5.3.0->cufflinks) (1.2.0)\n",
      "Requirement already satisfied: asttokens>=2.1.0 in c:\\users\\user\\appdata\\roaming\\python\\python310\\site-packages (from stack-data->ipython>=5.3.0->cufflinks) (2.2.1)\n",
      "Requirement already satisfied: pure-eval in c:\\users\\user\\appdata\\roaming\\python\\python310\\site-packages (from stack-data->ipython>=5.3.0->cufflinks) (0.2.2)\n",
      "Requirement already satisfied: platformdirs>=2.5 in c:\\users\\user\\appdata\\roaming\\python\\python310\\site-packages (from jupyter-core!=5.0.*,>=4.12->ipykernel>=4.5.1->ipywidgets>=7.0.0->cufflinks) (3.5.1)\n",
      "Requirement already satisfied: pywin32>=300 in c:\\users\\user\\appdata\\roaming\\python\\python310\\site-packages (from jupyter-core!=5.0.*,>=4.12->ipykernel>=4.5.1->ipywidgets>=7.0.0->cufflinks) (306)\n"
     ]
    }
   ],
   "source": [
    "!pip install cufflinks"
   ]
  },
  {
   "cell_type": "code",
   "execution_count": 5,
   "metadata": {},
   "outputs": [
    {
     "data": {
      "text/html": [
       "        <script type=\"text/javascript\">\n",
       "        window.PlotlyConfig = {MathJaxConfig: 'local'};\n",
       "        if (window.MathJax && window.MathJax.Hub && window.MathJax.Hub.Config) {window.MathJax.Hub.Config({SVG: {font: \"STIX-Web\"}});}\n",
       "        if (typeof require !== 'undefined') {\n",
       "        require.undef(\"plotly\");\n",
       "        requirejs.config({\n",
       "            paths: {\n",
       "                'plotly': ['https://cdn.plot.ly/plotly-2.24.1.min']\n",
       "            }\n",
       "        });\n",
       "        require(['plotly'], function(Plotly) {\n",
       "            window._Plotly = Plotly;\n",
       "        });\n",
       "        }\n",
       "        </script>\n",
       "        "
      ]
     },
     "metadata": {},
     "output_type": "display_data"
    },
    {
     "data": {
      "text/html": [
       "        <script type=\"text/javascript\">\n",
       "        window.PlotlyConfig = {MathJaxConfig: 'local'};\n",
       "        if (window.MathJax && window.MathJax.Hub && window.MathJax.Hub.Config) {window.MathJax.Hub.Config({SVG: {font: \"STIX-Web\"}});}\n",
       "        if (typeof require !== 'undefined') {\n",
       "        require.undef(\"plotly\");\n",
       "        requirejs.config({\n",
       "            paths: {\n",
       "                'plotly': ['https://cdn.plot.ly/plotly-2.24.1.min']\n",
       "            }\n",
       "        });\n",
       "        require(['plotly'], function(Plotly) {\n",
       "            window._Plotly = Plotly;\n",
       "        });\n",
       "        }\n",
       "        </script>\n",
       "        "
      ]
     },
     "metadata": {},
     "output_type": "display_data"
    }
   ],
   "source": [
    "import numpy as np\n",
    "import pandas as pd\n",
    "import seaborn as sns\n",
    "sns.set()\n",
    "import matplotlib.pyplot as plt\n",
    "\n",
    "import os\n",
    "import json\n",
    "import warnings\n",
    "warnings.simplefilter(action='ignore', category=FutureWarning)\n",
    "\n",
    "# mapas interactivos\n",
    "import folium\n",
    "from folium.plugins import FastMarkerCluster\n",
    "import geopandas as gpd\n",
    "from branca.colormap import LinearColormap\n",
    "\n",
    "#to make the plotly graphs\n",
    "import plotly.graph_objs as go\n",
    "import chart_studio.plotly as py\n",
    "from plotly.offline import iplot, init_notebook_mode\n",
    "import cufflinks\n",
    "cufflinks.go_offline(connected=True)\n",
    "init_notebook_mode(connected=True)\n",
    "import plotly.express as px\n",
    "\n"
   ]
  },
  {
   "cell_type": "code",
   "execution_count": 6,
   "metadata": {},
   "outputs": [
    {
     "data": {
      "text/plain": [
       "'#text mining\\nfrom nltk.tokenize import word_tokenize\\nfrom nltk.corpus import stopwords\\nimport re\\nfrom sklearn.feature_extraction.text import TfidfVectorizer, CountVectorizer\\nfrom wordcloud import WordCloud'"
      ]
     },
     "execution_count": 6,
     "metadata": {},
     "output_type": "execute_result"
    }
   ],
   "source": [
    "'''#text mining\n",
    "from nltk.tokenize import word_tokenize\n",
    "from nltk.corpus import stopwords\n",
    "import re\n",
    "from sklearn.feature_extraction.text import TfidfVectorizer, CountVectorizer\n",
    "from wordcloud import WordCloud'''"
   ]
  },
  {
   "cell_type": "code",
   "execution_count": 7,
   "metadata": {},
   "outputs": [],
   "source": [
    "listings = pd.read_csv(\"data/listings.csv\", index_col= \"id\")\n",
    "\n",
    "listings_details = pd.read_csv(\"data/listings_details.csv.gz\",  compression='gzip',index_col= \"id\", low_memory=False)\n"
   ]
  },
  {
   "cell_type": "code",
   "execution_count": 8,
   "metadata": {},
   "outputs": [
    {
     "name": "stdout",
     "output_type": "stream",
     "text": [
      "(42451, 17)\n",
      "(42451, 74)\n"
     ]
    }
   ],
   "source": [
    "print(listings.shape)\n",
    "print(listings_details.shape)"
   ]
  },
  {
   "attachments": {},
   "cell_type": "markdown",
   "metadata": {},
   "source": [
    "Listings tiene 17 variables y listings_details 74"
   ]
  },
  {
   "cell_type": "code",
   "execution_count": 9,
   "metadata": {},
   "outputs": [
    {
     "data": {
      "text/plain": [
       "Index(['name', 'host_id', 'host_name', 'neighbourhood_group', 'neighbourhood',\n",
       "       'latitude', 'longitude', 'room_type', 'price', 'minimum_nights',\n",
       "       'number_of_reviews', 'last_review', 'reviews_per_month',\n",
       "       'calculated_host_listings_count', 'availability_365',\n",
       "       'number_of_reviews_ltm', 'license'],\n",
       "      dtype='object')"
      ]
     },
     "execution_count": 9,
     "metadata": {},
     "output_type": "execute_result"
    }
   ],
   "source": [
    "listings.columns"
   ]
  },
  {
   "cell_type": "code",
   "execution_count": 10,
   "metadata": {},
   "outputs": [
    {
     "data": {
      "text/plain": [
       "Index(['listing_url', 'scrape_id', 'last_scraped', 'source', 'name',\n",
       "       'description', 'neighborhood_overview', 'picture_url', 'host_id',\n",
       "       'host_url', 'host_name', 'host_since', 'host_location', 'host_about',\n",
       "       'host_response_time', 'host_response_rate', 'host_acceptance_rate',\n",
       "       'host_is_superhost', 'host_thumbnail_url', 'host_picture_url',\n",
       "       'host_neighbourhood', 'host_listings_count',\n",
       "       'host_total_listings_count', 'host_verifications',\n",
       "       'host_has_profile_pic', 'host_identity_verified', 'neighbourhood',\n",
       "       'neighbourhood_cleansed', 'neighbourhood_group_cleansed', 'latitude',\n",
       "       'longitude', 'property_type', 'room_type', 'accommodates', 'bathrooms',\n",
       "       'bathrooms_text', 'bedrooms', 'beds', 'amenities', 'price',\n",
       "       'minimum_nights', 'maximum_nights', 'minimum_minimum_nights',\n",
       "       'maximum_minimum_nights', 'minimum_maximum_nights',\n",
       "       'maximum_maximum_nights', 'minimum_nights_avg_ntm',\n",
       "       'maximum_nights_avg_ntm', 'calendar_updated', 'has_availability',\n",
       "       'availability_30', 'availability_60', 'availability_90',\n",
       "       'availability_365', 'calendar_last_scraped', 'number_of_reviews',\n",
       "       'number_of_reviews_ltm', 'number_of_reviews_l30d', 'first_review',\n",
       "       'last_review', 'review_scores_rating', 'review_scores_accuracy',\n",
       "       'review_scores_cleanliness', 'review_scores_checkin',\n",
       "       'review_scores_communication', 'review_scores_location',\n",
       "       'review_scores_value', 'license', 'instant_bookable',\n",
       "       'calculated_host_listings_count',\n",
       "       'calculated_host_listings_count_entire_homes',\n",
       "       'calculated_host_listings_count_private_rooms',\n",
       "       'calculated_host_listings_count_shared_rooms', 'reviews_per_month'],\n",
       "      dtype='object')"
      ]
     },
     "execution_count": 10,
     "metadata": {},
     "output_type": "execute_result"
    }
   ],
   "source": [
    "listings_details.columns"
   ]
  },
  {
   "cell_type": "code",
   "execution_count": 11,
   "metadata": {},
   "outputs": [
    {
     "ename": "KeyError",
     "evalue": "\"['street', 'weekly_price', 'monthly_price', 'market'] not in index\"",
     "output_type": "error",
     "traceback": [
      "\u001b[1;31m---------------------------------------------------------------------------\u001b[0m",
      "\u001b[1;31mKeyError\u001b[0m                                  Traceback (most recent call last)",
      "Cell \u001b[1;32mIn[11], line 3\u001b[0m\n\u001b[0;32m      1\u001b[0m \u001b[39m# Me quedaré con las columnas que me parezcan más interesantes:\u001b[39;00m\n\u001b[0;32m      2\u001b[0m target_columns \u001b[39m=\u001b[39m [\u001b[39m\"\u001b[39m\u001b[39mproperty_type\u001b[39m\u001b[39m\"\u001b[39m, \u001b[39m\"\u001b[39m\u001b[39maccommodates\u001b[39m\u001b[39m\"\u001b[39m, \u001b[39m\"\u001b[39m\u001b[39mfirst_review\u001b[39m\u001b[39m\"\u001b[39m, \u001b[39m\"\u001b[39m\u001b[39mreview_scores_value\u001b[39m\u001b[39m\"\u001b[39m, \u001b[39m\"\u001b[39m\u001b[39mreview_scores_cleanliness\u001b[39m\u001b[39m\"\u001b[39m, \u001b[39m\"\u001b[39m\u001b[39mreview_scores_location\u001b[39m\u001b[39m\"\u001b[39m, \u001b[39m\"\u001b[39m\u001b[39mreview_scores_accuracy\u001b[39m\u001b[39m\"\u001b[39m, \u001b[39m\"\u001b[39m\u001b[39mreview_scores_communication\u001b[39m\u001b[39m\"\u001b[39m, \u001b[39m\"\u001b[39m\u001b[39mreview_scores_checkin\u001b[39m\u001b[39m\"\u001b[39m, \u001b[39m\"\u001b[39m\u001b[39mreview_scores_rating\u001b[39m\u001b[39m\"\u001b[39m, \u001b[39m\"\u001b[39m\u001b[39mmaximum_nights\u001b[39m\u001b[39m\"\u001b[39m, \u001b[39m\"\u001b[39m\u001b[39mlisting_url\u001b[39m\u001b[39m\"\u001b[39m, \u001b[39m\"\u001b[39m\u001b[39mhost_is_superhost\u001b[39m\u001b[39m\"\u001b[39m, \u001b[39m\"\u001b[39m\u001b[39mhost_about\u001b[39m\u001b[39m\"\u001b[39m, \u001b[39m\"\u001b[39m\u001b[39mhost_response_time\u001b[39m\u001b[39m\"\u001b[39m, \u001b[39m\"\u001b[39m\u001b[39mhost_response_rate\u001b[39m\u001b[39m\"\u001b[39m, \u001b[39m\"\u001b[39m\u001b[39mstreet\u001b[39m\u001b[39m\"\u001b[39m, \u001b[39m\"\u001b[39m\u001b[39mweekly_price\u001b[39m\u001b[39m\"\u001b[39m, \u001b[39m\"\u001b[39m\u001b[39mmonthly_price\u001b[39m\u001b[39m\"\u001b[39m, \u001b[39m\"\u001b[39m\u001b[39mmarket\u001b[39m\u001b[39m\"\u001b[39m]\n\u001b[1;32m----> 3\u001b[0m listings \u001b[39m=\u001b[39m pd\u001b[39m.\u001b[39mmerge(listings, listings_details[target_columns], on\u001b[39m=\u001b[39m\u001b[39m'\u001b[39m\u001b[39mid\u001b[39m\u001b[39m'\u001b[39m, how\u001b[39m=\u001b[39m\u001b[39m'\u001b[39m\u001b[39mleft\u001b[39m\u001b[39m'\u001b[39m)\n\u001b[0;32m      4\u001b[0m listings\u001b[39m.\u001b[39minfo()\n",
      "File \u001b[1;32mc:\\Users\\User\\AppData\\Local\\Programs\\Python\\Python310\\lib\\site-packages\\pandas\\core\\frame.py:3767\u001b[0m, in \u001b[0;36mDataFrame.__getitem__\u001b[1;34m(self, key)\u001b[0m\n\u001b[0;32m   3765\u001b[0m     \u001b[39mif\u001b[39;00m is_iterator(key):\n\u001b[0;32m   3766\u001b[0m         key \u001b[39m=\u001b[39m \u001b[39mlist\u001b[39m(key)\n\u001b[1;32m-> 3767\u001b[0m     indexer \u001b[39m=\u001b[39m \u001b[39mself\u001b[39;49m\u001b[39m.\u001b[39;49mcolumns\u001b[39m.\u001b[39;49m_get_indexer_strict(key, \u001b[39m\"\u001b[39;49m\u001b[39mcolumns\u001b[39;49m\u001b[39m\"\u001b[39;49m)[\u001b[39m1\u001b[39m]\n\u001b[0;32m   3769\u001b[0m \u001b[39m# take() does not accept boolean indexers\u001b[39;00m\n\u001b[0;32m   3770\u001b[0m \u001b[39mif\u001b[39;00m \u001b[39mgetattr\u001b[39m(indexer, \u001b[39m\"\u001b[39m\u001b[39mdtype\u001b[39m\u001b[39m\"\u001b[39m, \u001b[39mNone\u001b[39;00m) \u001b[39m==\u001b[39m \u001b[39mbool\u001b[39m:\n",
      "File \u001b[1;32mc:\\Users\\User\\AppData\\Local\\Programs\\Python\\Python310\\lib\\site-packages\\pandas\\core\\indexes\\base.py:5876\u001b[0m, in \u001b[0;36mIndex._get_indexer_strict\u001b[1;34m(self, key, axis_name)\u001b[0m\n\u001b[0;32m   5873\u001b[0m \u001b[39melse\u001b[39;00m:\n\u001b[0;32m   5874\u001b[0m     keyarr, indexer, new_indexer \u001b[39m=\u001b[39m \u001b[39mself\u001b[39m\u001b[39m.\u001b[39m_reindex_non_unique(keyarr)\n\u001b[1;32m-> 5876\u001b[0m \u001b[39mself\u001b[39;49m\u001b[39m.\u001b[39;49m_raise_if_missing(keyarr, indexer, axis_name)\n\u001b[0;32m   5878\u001b[0m keyarr \u001b[39m=\u001b[39m \u001b[39mself\u001b[39m\u001b[39m.\u001b[39mtake(indexer)\n\u001b[0;32m   5879\u001b[0m \u001b[39mif\u001b[39;00m \u001b[39misinstance\u001b[39m(key, Index):\n\u001b[0;32m   5880\u001b[0m     \u001b[39m# GH 42790 - Preserve name from an Index\u001b[39;00m\n",
      "File \u001b[1;32mc:\\Users\\User\\AppData\\Local\\Programs\\Python\\Python310\\lib\\site-packages\\pandas\\core\\indexes\\base.py:5938\u001b[0m, in \u001b[0;36mIndex._raise_if_missing\u001b[1;34m(self, key, indexer, axis_name)\u001b[0m\n\u001b[0;32m   5935\u001b[0m     \u001b[39mraise\u001b[39;00m \u001b[39mKeyError\u001b[39;00m(\u001b[39mf\u001b[39m\u001b[39m\"\u001b[39m\u001b[39mNone of [\u001b[39m\u001b[39m{\u001b[39;00mkey\u001b[39m}\u001b[39;00m\u001b[39m] are in the [\u001b[39m\u001b[39m{\u001b[39;00maxis_name\u001b[39m}\u001b[39;00m\u001b[39m]\u001b[39m\u001b[39m\"\u001b[39m)\n\u001b[0;32m   5937\u001b[0m not_found \u001b[39m=\u001b[39m \u001b[39mlist\u001b[39m(ensure_index(key)[missing_mask\u001b[39m.\u001b[39mnonzero()[\u001b[39m0\u001b[39m]]\u001b[39m.\u001b[39munique())\n\u001b[1;32m-> 5938\u001b[0m \u001b[39mraise\u001b[39;00m \u001b[39mKeyError\u001b[39;00m(\u001b[39mf\u001b[39m\u001b[39m\"\u001b[39m\u001b[39m{\u001b[39;00mnot_found\u001b[39m}\u001b[39;00m\u001b[39m not in index\u001b[39m\u001b[39m\"\u001b[39m)\n",
      "\u001b[1;31mKeyError\u001b[0m: \"['street', 'weekly_price', 'monthly_price', 'market'] not in index\""
     ]
    }
   ],
   "source": [
    "# Me quedaré con las columnas que me parezcan más interesantes:\n",
    "target_columns = [\"property_type\", \"accommodates\", \"first_review\", \"review_scores_value\", \"review_scores_cleanliness\", \"review_scores_location\", \"review_scores_accuracy\", \"review_scores_communication\", \"review_scores_checkin\", \"review_scores_rating\", \"maximum_nights\", \"listing_url\", \"host_is_superhost\", \"host_about\", \"host_response_time\", \"host_response_rate\", \"street\", \"weekly_price\", \"monthly_price\", \"market\"]\n",
    "listings = pd.merge(listings, listings_details[target_columns], on='id', how='left')\n",
    "listings.info()\n"
   ]
  },
  {
   "attachments": {},
   "cell_type": "markdown",
   "metadata": {},
   "source": [
    "# Predicción de precios con listings_details:"
   ]
  },
  {
   "attachments": {},
   "cell_type": "markdown",
   "metadata": {},
   "source": [
    "https://www.kaggle.com/code/elisabravo/airbnb-price-prediction/edit"
   ]
  },
  {
   "attachments": {},
   "cell_type": "markdown",
   "metadata": {},
   "source": [
    "### Librerias:"
   ]
  },
  {
   "cell_type": "code",
   "execution_count": 12,
   "metadata": {},
   "outputs": [],
   "source": [
    "from collections import defaultdict\n",
    "from sklearn.preprocessing import MinMaxScaler\n",
    "from scipy import stats\n",
    "import re"
   ]
  },
  {
   "cell_type": "code",
   "execution_count": 13,
   "metadata": {},
   "outputs": [],
   "source": [
    "df = listings_details.copy()"
   ]
  },
  {
   "attachments": {},
   "cell_type": "markdown",
   "metadata": {},
   "source": [
    "### Estado inicial prelimpieza:"
   ]
  },
  {
   "attachments": {},
   "cell_type": "markdown",
   "metadata": {},
   "source": [
    "#### Qué tenemos:"
   ]
  },
  {
   "cell_type": "code",
   "execution_count": 14,
   "metadata": {},
   "outputs": [
    {
     "name": "stdout",
     "output_type": "stream",
     "text": [
      "<class 'pandas.core.frame.DataFrame'>\n",
      "Index: 42451 entries, 777451666060243581 to 625415450215801684\n",
      "Data columns (total 74 columns):\n",
      " #   Column                                        Non-Null Count  Dtype  \n",
      "---  ------                                        --------------  -----  \n",
      " 0   listing_url                                   42451 non-null  object \n",
      " 1   scrape_id                                     42451 non-null  int64  \n",
      " 2   last_scraped                                  42451 non-null  object \n",
      " 3   source                                        42451 non-null  object \n",
      " 4   name                                          42449 non-null  object \n",
      " 5   description                                   41701 non-null  object \n",
      " 6   neighborhood_overview                         24957 non-null  object \n",
      " 7   picture_url                                   42451 non-null  object \n",
      " 8   host_id                                       42451 non-null  int64  \n",
      " 9   host_url                                      42451 non-null  object \n",
      " 10  host_name                                     42449 non-null  object \n",
      " 11  host_since                                    42449 non-null  object \n",
      " 12  host_location                                 33989 non-null  object \n",
      " 13  host_about                                    24626 non-null  object \n",
      " 14  host_response_time                            33076 non-null  object \n",
      " 15  host_response_rate                            33076 non-null  object \n",
      " 16  host_acceptance_rate                          34108 non-null  object \n",
      " 17  host_is_superhost                             42292 non-null  object \n",
      " 18  host_thumbnail_url                            42449 non-null  object \n",
      " 19  host_picture_url                              42449 non-null  object \n",
      " 20  host_neighbourhood                            33704 non-null  object \n",
      " 21  host_listings_count                           42449 non-null  float64\n",
      " 22  host_total_listings_count                     42449 non-null  float64\n",
      " 23  host_verifications                            42449 non-null  object \n",
      " 24  host_has_profile_pic                          42449 non-null  object \n",
      " 25  host_identity_verified                        42449 non-null  object \n",
      " 26  neighbourhood                                 24958 non-null  object \n",
      " 27  neighbourhood_cleansed                        42451 non-null  object \n",
      " 28  neighbourhood_group_cleansed                  42451 non-null  object \n",
      " 29  latitude                                      42451 non-null  float64\n",
      " 30  longitude                                     42451 non-null  float64\n",
      " 31  property_type                                 42451 non-null  object \n",
      " 32  room_type                                     42451 non-null  object \n",
      " 33  accommodates                                  42451 non-null  int64  \n",
      " 34  bathrooms                                     0 non-null      float64\n",
      " 35  bathrooms_text                                42410 non-null  object \n",
      " 36  bedrooms                                      38832 non-null  float64\n",
      " 37  beds                                          41854 non-null  float64\n",
      " 38  amenities                                     42451 non-null  object \n",
      " 39  price                                         42451 non-null  object \n",
      " 40  minimum_nights                                42451 non-null  int64  \n",
      " 41  maximum_nights                                42451 non-null  int64  \n",
      " 42  minimum_minimum_nights                        42446 non-null  float64\n",
      " 43  maximum_minimum_nights                        42446 non-null  float64\n",
      " 44  minimum_maximum_nights                        42446 non-null  float64\n",
      " 45  maximum_maximum_nights                        42446 non-null  float64\n",
      " 46  minimum_nights_avg_ntm                        42446 non-null  float64\n",
      " 47  maximum_nights_avg_ntm                        42446 non-null  float64\n",
      " 48  calendar_updated                              0 non-null      float64\n",
      " 49  has_availability                              42451 non-null  object \n",
      " 50  availability_30                               42451 non-null  int64  \n",
      " 51  availability_60                               42451 non-null  int64  \n",
      " 52  availability_90                               42451 non-null  int64  \n",
      " 53  availability_365                              42451 non-null  int64  \n",
      " 54  calendar_last_scraped                         42451 non-null  object \n",
      " 55  number_of_reviews                             42451 non-null  int64  \n",
      " 56  number_of_reviews_ltm                         42451 non-null  int64  \n",
      " 57  number_of_reviews_l30d                        42451 non-null  int64  \n",
      " 58  first_review                                  30780 non-null  object \n",
      " 59  last_review                                   30780 non-null  object \n",
      " 60  review_scores_rating                          30780 non-null  float64\n",
      " 61  review_scores_accuracy                        30531 non-null  float64\n",
      " 62  review_scores_cleanliness                     30533 non-null  float64\n",
      " 63  review_scores_checkin                         30526 non-null  float64\n",
      " 64  review_scores_communication                   30532 non-null  float64\n",
      " 65  review_scores_location                        30524 non-null  float64\n",
      " 66  review_scores_value                           30522 non-null  float64\n",
      " 67  license                                       11942 non-null  object \n",
      " 68  instant_bookable                              42451 non-null  object \n",
      " 69  calculated_host_listings_count                42451 non-null  int64  \n",
      " 70  calculated_host_listings_count_entire_homes   42451 non-null  int64  \n",
      " 71  calculated_host_listings_count_private_rooms  42451 non-null  int64  \n",
      " 72  calculated_host_listings_count_shared_rooms   42451 non-null  int64  \n",
      " 73  reviews_per_month                             30780 non-null  float64\n",
      "dtypes: float64(22), int64(16), object(36)\n",
      "memory usage: 24.3+ MB\n"
     ]
    }
   ],
   "source": [
    "df.info()"
   ]
  },
  {
   "attachments": {},
   "cell_type": "markdown",
   "metadata": {},
   "source": [
    "Vamos a ver si las variables numericas nos las sabe identificar y calcular. Vemos que algunas de ellas como los id no deberian de ser numeros sino categoricas:"
   ]
  },
  {
   "cell_type": "code",
   "execution_count": 15,
   "metadata": {},
   "outputs": [
    {
     "data": {
      "text/html": [
       "<div>\n",
       "<style scoped>\n",
       "    .dataframe tbody tr th:only-of-type {\n",
       "        vertical-align: middle;\n",
       "    }\n",
       "\n",
       "    .dataframe tbody tr th {\n",
       "        vertical-align: top;\n",
       "    }\n",
       "\n",
       "    .dataframe thead th {\n",
       "        text-align: right;\n",
       "    }\n",
       "</style>\n",
       "<table border=\"1\" class=\"dataframe\">\n",
       "  <thead>\n",
       "    <tr style=\"text-align: right;\">\n",
       "      <th></th>\n",
       "      <th>scrape_id</th>\n",
       "      <th>host_id</th>\n",
       "      <th>host_listings_count</th>\n",
       "      <th>host_total_listings_count</th>\n",
       "      <th>latitude</th>\n",
       "      <th>longitude</th>\n",
       "      <th>accommodates</th>\n",
       "      <th>bathrooms</th>\n",
       "      <th>bedrooms</th>\n",
       "      <th>beds</th>\n",
       "      <th>...</th>\n",
       "      <th>review_scores_cleanliness</th>\n",
       "      <th>review_scores_checkin</th>\n",
       "      <th>review_scores_communication</th>\n",
       "      <th>review_scores_location</th>\n",
       "      <th>review_scores_value</th>\n",
       "      <th>calculated_host_listings_count</th>\n",
       "      <th>calculated_host_listings_count_entire_homes</th>\n",
       "      <th>calculated_host_listings_count_private_rooms</th>\n",
       "      <th>calculated_host_listings_count_shared_rooms</th>\n",
       "      <th>reviews_per_month</th>\n",
       "    </tr>\n",
       "  </thead>\n",
       "  <tbody>\n",
       "    <tr>\n",
       "      <th>count</th>\n",
       "      <td>4.245100e+04</td>\n",
       "      <td>4.245100e+04</td>\n",
       "      <td>42449.000000</td>\n",
       "      <td>42449.000000</td>\n",
       "      <td>42451.000000</td>\n",
       "      <td>42451.000000</td>\n",
       "      <td>42451.000000</td>\n",
       "      <td>0.0</td>\n",
       "      <td>38832.000000</td>\n",
       "      <td>41854.000000</td>\n",
       "      <td>...</td>\n",
       "      <td>30533.000000</td>\n",
       "      <td>30526.000000</td>\n",
       "      <td>30532.000000</td>\n",
       "      <td>30524.000000</td>\n",
       "      <td>30522.000000</td>\n",
       "      <td>42451.000000</td>\n",
       "      <td>42451.000000</td>\n",
       "      <td>42451.000000</td>\n",
       "      <td>42451.000000</td>\n",
       "      <td>30780.000000</td>\n",
       "    </tr>\n",
       "    <tr>\n",
       "      <th>mean</th>\n",
       "      <td>2.023031e+13</td>\n",
       "      <td>1.634216e+08</td>\n",
       "      <td>142.159085</td>\n",
       "      <td>169.611251</td>\n",
       "      <td>34.058002</td>\n",
       "      <td>-118.319520</td>\n",
       "      <td>3.908224</td>\n",
       "      <td>NaN</td>\n",
       "      <td>1.775366</td>\n",
       "      <td>2.160486</td>\n",
       "      <td>...</td>\n",
       "      <td>4.710862</td>\n",
       "      <td>4.839167</td>\n",
       "      <td>4.829212</td>\n",
       "      <td>4.788386</td>\n",
       "      <td>4.673745</td>\n",
       "      <td>56.508092</td>\n",
       "      <td>20.247650</td>\n",
       "      <td>36.067914</td>\n",
       "      <td>0.161480</td>\n",
       "      <td>1.442880</td>\n",
       "    </tr>\n",
       "    <tr>\n",
       "      <th>std</th>\n",
       "      <td>0.000000e+00</td>\n",
       "      <td>1.593238e+08</td>\n",
       "      <td>653.655431</td>\n",
       "      <td>760.320411</td>\n",
       "      <td>0.136723</td>\n",
       "      <td>0.171488</td>\n",
       "      <td>2.731220</td>\n",
       "      <td>NaN</td>\n",
       "      <td>1.182934</td>\n",
       "      <td>1.595014</td>\n",
       "      <td>...</td>\n",
       "      <td>0.495622</td>\n",
       "      <td>0.414862</td>\n",
       "      <td>0.435060</td>\n",
       "      <td>0.405893</td>\n",
       "      <td>0.498480</td>\n",
       "      <td>191.566139</td>\n",
       "      <td>93.453999</td>\n",
       "      <td>171.220843</td>\n",
       "      <td>1.787155</td>\n",
       "      <td>1.801396</td>\n",
       "    </tr>\n",
       "    <tr>\n",
       "      <th>min</th>\n",
       "      <td>2.023031e+13</td>\n",
       "      <td>5.210000e+02</td>\n",
       "      <td>0.000000</td>\n",
       "      <td>0.000000</td>\n",
       "      <td>33.338480</td>\n",
       "      <td>-118.934830</td>\n",
       "      <td>0.000000</td>\n",
       "      <td>NaN</td>\n",
       "      <td>1.000000</td>\n",
       "      <td>1.000000</td>\n",
       "      <td>...</td>\n",
       "      <td>0.000000</td>\n",
       "      <td>0.000000</td>\n",
       "      <td>0.000000</td>\n",
       "      <td>0.000000</td>\n",
       "      <td>0.000000</td>\n",
       "      <td>1.000000</td>\n",
       "      <td>0.000000</td>\n",
       "      <td>0.000000</td>\n",
       "      <td>0.000000</td>\n",
       "      <td>0.010000</td>\n",
       "    </tr>\n",
       "    <tr>\n",
       "      <th>25%</th>\n",
       "      <td>2.023031e+13</td>\n",
       "      <td>2.430378e+07</td>\n",
       "      <td>1.000000</td>\n",
       "      <td>2.000000</td>\n",
       "      <td>34.000925</td>\n",
       "      <td>-118.432010</td>\n",
       "      <td>2.000000</td>\n",
       "      <td>NaN</td>\n",
       "      <td>1.000000</td>\n",
       "      <td>1.000000</td>\n",
       "      <td>...</td>\n",
       "      <td>4.650000</td>\n",
       "      <td>4.860000</td>\n",
       "      <td>4.840000</td>\n",
       "      <td>4.750000</td>\n",
       "      <td>4.600000</td>\n",
       "      <td>1.000000</td>\n",
       "      <td>1.000000</td>\n",
       "      <td>0.000000</td>\n",
       "      <td>0.000000</td>\n",
       "      <td>0.230000</td>\n",
       "    </tr>\n",
       "    <tr>\n",
       "      <th>50%</th>\n",
       "      <td>2.023031e+13</td>\n",
       "      <td>1.074344e+08</td>\n",
       "      <td>3.000000</td>\n",
       "      <td>5.000000</td>\n",
       "      <td>34.064243</td>\n",
       "      <td>-118.347517</td>\n",
       "      <td>3.000000</td>\n",
       "      <td>NaN</td>\n",
       "      <td>1.000000</td>\n",
       "      <td>2.000000</td>\n",
       "      <td>...</td>\n",
       "      <td>4.870000</td>\n",
       "      <td>4.970000</td>\n",
       "      <td>4.970000</td>\n",
       "      <td>4.910000</td>\n",
       "      <td>4.800000</td>\n",
       "      <td>2.000000</td>\n",
       "      <td>1.000000</td>\n",
       "      <td>0.000000</td>\n",
       "      <td>0.000000</td>\n",
       "      <td>0.770000</td>\n",
       "    </tr>\n",
       "    <tr>\n",
       "      <th>75%</th>\n",
       "      <td>2.023031e+13</td>\n",
       "      <td>2.735477e+08</td>\n",
       "      <td>15.000000</td>\n",
       "      <td>24.000000</td>\n",
       "      <td>34.118700</td>\n",
       "      <td>-118.247860</td>\n",
       "      <td>5.000000</td>\n",
       "      <td>NaN</td>\n",
       "      <td>2.000000</td>\n",
       "      <td>3.000000</td>\n",
       "      <td>...</td>\n",
       "      <td>5.000000</td>\n",
       "      <td>5.000000</td>\n",
       "      <td>5.000000</td>\n",
       "      <td>5.000000</td>\n",
       "      <td>4.970000</td>\n",
       "      <td>11.000000</td>\n",
       "      <td>5.000000</td>\n",
       "      <td>1.000000</td>\n",
       "      <td>0.000000</td>\n",
       "      <td>2.130000</td>\n",
       "    </tr>\n",
       "    <tr>\n",
       "      <th>max</th>\n",
       "      <td>2.023031e+13</td>\n",
       "      <td>5.039739e+08</td>\n",
       "      <td>4784.000000</td>\n",
       "      <td>8316.000000</td>\n",
       "      <td>34.811130</td>\n",
       "      <td>-117.653400</td>\n",
       "      <td>16.000000</td>\n",
       "      <td>NaN</td>\n",
       "      <td>24.000000</td>\n",
       "      <td>50.000000</td>\n",
       "      <td>...</td>\n",
       "      <td>5.000000</td>\n",
       "      <td>5.000000</td>\n",
       "      <td>5.000000</td>\n",
       "      <td>5.000000</td>\n",
       "      <td>5.000000</td>\n",
       "      <td>1003.000000</td>\n",
       "      <td>717.000000</td>\n",
       "      <td>1001.000000</td>\n",
       "      <td>37.000000</td>\n",
       "      <td>81.190000</td>\n",
       "    </tr>\n",
       "  </tbody>\n",
       "</table>\n",
       "<p>8 rows × 38 columns</p>\n",
       "</div>"
      ],
      "text/plain": [
       "          scrape_id       host_id  host_listings_count  \\\n",
       "count  4.245100e+04  4.245100e+04         42449.000000   \n",
       "mean   2.023031e+13  1.634216e+08           142.159085   \n",
       "std    0.000000e+00  1.593238e+08           653.655431   \n",
       "min    2.023031e+13  5.210000e+02             0.000000   \n",
       "25%    2.023031e+13  2.430378e+07             1.000000   \n",
       "50%    2.023031e+13  1.074344e+08             3.000000   \n",
       "75%    2.023031e+13  2.735477e+08            15.000000   \n",
       "max    2.023031e+13  5.039739e+08          4784.000000   \n",
       "\n",
       "       host_total_listings_count      latitude     longitude  accommodates  \\\n",
       "count               42449.000000  42451.000000  42451.000000  42451.000000   \n",
       "mean                  169.611251     34.058002   -118.319520      3.908224   \n",
       "std                   760.320411      0.136723      0.171488      2.731220   \n",
       "min                     0.000000     33.338480   -118.934830      0.000000   \n",
       "25%                     2.000000     34.000925   -118.432010      2.000000   \n",
       "50%                     5.000000     34.064243   -118.347517      3.000000   \n",
       "75%                    24.000000     34.118700   -118.247860      5.000000   \n",
       "max                  8316.000000     34.811130   -117.653400     16.000000   \n",
       "\n",
       "       bathrooms      bedrooms          beds  ...  review_scores_cleanliness  \\\n",
       "count        0.0  38832.000000  41854.000000  ...               30533.000000   \n",
       "mean         NaN      1.775366      2.160486  ...                   4.710862   \n",
       "std          NaN      1.182934      1.595014  ...                   0.495622   \n",
       "min          NaN      1.000000      1.000000  ...                   0.000000   \n",
       "25%          NaN      1.000000      1.000000  ...                   4.650000   \n",
       "50%          NaN      1.000000      2.000000  ...                   4.870000   \n",
       "75%          NaN      2.000000      3.000000  ...                   5.000000   \n",
       "max          NaN     24.000000     50.000000  ...                   5.000000   \n",
       "\n",
       "       review_scores_checkin  review_scores_communication  \\\n",
       "count           30526.000000                 30532.000000   \n",
       "mean                4.839167                     4.829212   \n",
       "std                 0.414862                     0.435060   \n",
       "min                 0.000000                     0.000000   \n",
       "25%                 4.860000                     4.840000   \n",
       "50%                 4.970000                     4.970000   \n",
       "75%                 5.000000                     5.000000   \n",
       "max                 5.000000                     5.000000   \n",
       "\n",
       "       review_scores_location  review_scores_value  \\\n",
       "count            30524.000000         30522.000000   \n",
       "mean                 4.788386             4.673745   \n",
       "std                  0.405893             0.498480   \n",
       "min                  0.000000             0.000000   \n",
       "25%                  4.750000             4.600000   \n",
       "50%                  4.910000             4.800000   \n",
       "75%                  5.000000             4.970000   \n",
       "max                  5.000000             5.000000   \n",
       "\n",
       "       calculated_host_listings_count  \\\n",
       "count                    42451.000000   \n",
       "mean                        56.508092   \n",
       "std                        191.566139   \n",
       "min                          1.000000   \n",
       "25%                          1.000000   \n",
       "50%                          2.000000   \n",
       "75%                         11.000000   \n",
       "max                       1003.000000   \n",
       "\n",
       "       calculated_host_listings_count_entire_homes  \\\n",
       "count                                 42451.000000   \n",
       "mean                                     20.247650   \n",
       "std                                      93.453999   \n",
       "min                                       0.000000   \n",
       "25%                                       1.000000   \n",
       "50%                                       1.000000   \n",
       "75%                                       5.000000   \n",
       "max                                     717.000000   \n",
       "\n",
       "       calculated_host_listings_count_private_rooms  \\\n",
       "count                                  42451.000000   \n",
       "mean                                      36.067914   \n",
       "std                                      171.220843   \n",
       "min                                        0.000000   \n",
       "25%                                        0.000000   \n",
       "50%                                        0.000000   \n",
       "75%                                        1.000000   \n",
       "max                                     1001.000000   \n",
       "\n",
       "       calculated_host_listings_count_shared_rooms  reviews_per_month  \n",
       "count                                 42451.000000       30780.000000  \n",
       "mean                                      0.161480           1.442880  \n",
       "std                                       1.787155           1.801396  \n",
       "min                                       0.000000           0.010000  \n",
       "25%                                       0.000000           0.230000  \n",
       "50%                                       0.000000           0.770000  \n",
       "75%                                       0.000000           2.130000  \n",
       "max                                      37.000000          81.190000  \n",
       "\n",
       "[8 rows x 38 columns]"
      ]
     },
     "execution_count": 15,
     "metadata": {},
     "output_type": "execute_result"
    }
   ],
   "source": [
    "listings_details.describe()"
   ]
  },
  {
   "attachments": {},
   "cell_type": "markdown",
   "metadata": {},
   "source": [
    "Cantidad observaciones o instancias hay en el conjunto de datos, es decir, número de filas o registros en el DataFrame (data points) y características en el DataFrame antes de realizar cualquier limpieza o manipulación adicional:"
   ]
  },
  {
   "cell_type": "code",
   "execution_count": 16,
   "metadata": {},
   "outputs": [
    {
     "name": "stdout",
     "output_type": "stream",
     "text": [
      "Antes de limpiar los datos hay: 42451 observaciones o data points.\n",
      "Antes de limpiar los datos hay: 74 columnas.\n"
     ]
    }
   ],
   "source": [
    "print(\"Antes de limpiar los datos hay: \" + str(df.count()[0]) + \" observaciones o data points.\")\n",
    "print(\"Antes de limpiar los datos hay: \" + str(len(df.columns)) + \" columnas.\")"
   ]
  },
  {
   "attachments": {},
   "cell_type": "markdown",
   "metadata": {},
   "source": [
    "#### Nulos:"
   ]
  },
  {
   "cell_type": "code",
   "execution_count": 17,
   "metadata": {},
   "outputs": [
    {
     "data": {
      "text/plain": [
       "bathrooms                      42451\n",
       "calendar_updated               42451\n",
       "license                        30509\n",
       "host_about                     17825\n",
       "neighborhood_overview          17494\n",
       "neighbourhood                  17493\n",
       "review_scores_value            11929\n",
       "review_scores_location         11927\n",
       "review_scores_checkin          11925\n",
       "review_scores_accuracy         11920\n",
       "review_scores_communication    11919\n",
       "review_scores_cleanliness      11918\n",
       "last_review                    11671\n",
       "first_review                   11671\n",
       "reviews_per_month              11671\n",
       "review_scores_rating           11671\n",
       "host_response_rate              9375\n",
       "host_response_time              9375\n",
       "host_neighbourhood              8747\n",
       "host_location                   8462\n",
       "host_acceptance_rate            8343\n",
       "bedrooms                        3619\n",
       "description                      750\n",
       "beds                             597\n",
       "host_is_superhost                159\n",
       "bathrooms_text                    41\n",
       "maximum_nights_avg_ntm             5\n",
       "maximum_minimum_nights             5\n",
       "minimum_maximum_nights             5\n",
       "maximum_maximum_nights             5\n",
       "dtype: int64"
      ]
     },
     "execution_count": 17,
     "metadata": {},
     "output_type": "execute_result"
    }
   ],
   "source": [
    "# Nulos por columna (observamos las 30 primeras columnas porque hay 74 en total)\n",
    "df.isnull().sum().sort_values(ascending=False)[0:30]"
   ]
  },
  {
   "cell_type": "code",
   "execution_count": 23,
   "metadata": {},
   "outputs": [
    {
     "data": {
      "text/html": [
       "<div>\n",
       "<style scoped>\n",
       "    .dataframe tbody tr th:only-of-type {\n",
       "        vertical-align: middle;\n",
       "    }\n",
       "\n",
       "    .dataframe tbody tr th {\n",
       "        vertical-align: top;\n",
       "    }\n",
       "\n",
       "    .dataframe thead th {\n",
       "        text-align: right;\n",
       "    }\n",
       "</style>\n",
       "<table border=\"1\" class=\"dataframe\">\n",
       "  <thead>\n",
       "    <tr style=\"text-align: right;\">\n",
       "      <th></th>\n",
       "      <th>bathrooms</th>\n",
       "      <th>calendar_updated</th>\n",
       "      <th>license</th>\n",
       "      <th>host_about</th>\n",
       "      <th>neighborhood_overview</th>\n",
       "      <th>neighbourhood</th>\n",
       "      <th>review_scores_value</th>\n",
       "      <th>review_scores_location</th>\n",
       "      <th>review_scores_checkin</th>\n",
       "      <th>review_scores_accuracy</th>\n",
       "      <th>...</th>\n",
       "      <th>review_scores_cleanliness</th>\n",
       "      <th>last_review</th>\n",
       "      <th>first_review</th>\n",
       "      <th>reviews_per_month</th>\n",
       "      <th>review_scores_rating</th>\n",
       "      <th>host_response_rate</th>\n",
       "      <th>host_response_time</th>\n",
       "      <th>host_neighbourhood</th>\n",
       "      <th>host_location</th>\n",
       "      <th>host_acceptance_rate</th>\n",
       "    </tr>\n",
       "  </thead>\n",
       "  <tbody>\n",
       "    <tr>\n",
       "      <th>% nulos</th>\n",
       "      <td>100.0</td>\n",
       "      <td>100.0</td>\n",
       "      <td>71.868743</td>\n",
       "      <td>41.989588</td>\n",
       "      <td>41.209865</td>\n",
       "      <td>41.20751</td>\n",
       "      <td>28.100634</td>\n",
       "      <td>28.095922</td>\n",
       "      <td>28.091211</td>\n",
       "      <td>28.079433</td>\n",
       "      <td>...</td>\n",
       "      <td>28.074721</td>\n",
       "      <td>27.492874</td>\n",
       "      <td>27.492874</td>\n",
       "      <td>27.492874</td>\n",
       "      <td>27.492874</td>\n",
       "      <td>22.084285</td>\n",
       "      <td>22.084285</td>\n",
       "      <td>20.604933</td>\n",
       "      <td>19.93357</td>\n",
       "      <td>19.653247</td>\n",
       "    </tr>\n",
       "  </tbody>\n",
       "</table>\n",
       "<p>1 rows × 21 columns</p>\n",
       "</div>"
      ],
      "text/plain": [
       "         bathrooms  calendar_updated    license  host_about  \\\n",
       "% nulos      100.0             100.0  71.868743   41.989588   \n",
       "\n",
       "         neighborhood_overview  neighbourhood  review_scores_value  \\\n",
       "% nulos              41.209865       41.20751            28.100634   \n",
       "\n",
       "         review_scores_location  review_scores_checkin  \\\n",
       "% nulos               28.095922              28.091211   \n",
       "\n",
       "         review_scores_accuracy  ...  review_scores_cleanliness  last_review  \\\n",
       "% nulos               28.079433  ...                  28.074721    27.492874   \n",
       "\n",
       "         first_review  reviews_per_month  review_scores_rating  \\\n",
       "% nulos     27.492874          27.492874             27.492874   \n",
       "\n",
       "         host_response_rate  host_response_time  host_neighbourhood  \\\n",
       "% nulos           22.084285           22.084285           20.604933   \n",
       "\n",
       "         host_location  host_acceptance_rate  \n",
       "% nulos       19.93357             19.653247  \n",
       "\n",
       "[1 rows x 21 columns]"
      ]
     },
     "execution_count": 23,
     "metadata": {},
     "output_type": "execute_result"
    }
   ],
   "source": [
    "nulos_values = df.isnull().sum()\n",
    "nulos_values_percentage = nulos_values/len(df)*100 #Calculamos el % del los datos faltantes en cada columna\n",
    "nulos_values_totales= nulos_values_percentage.sort_values(ascending = False) #Ordenamos de mayor a menor\n",
    "nulos_values_totales = pd.DataFrame(nulos_values_totales,columns=[\"% nulos\"])\n",
    "nulos_values_totales.sort_values(by=\"% nulos\", ascending=False).head(21).T"
   ]
  },
  {
   "attachments": {},
   "cell_type": "markdown",
   "metadata": {},
   "source": [
    "Hay columnas con el 100% de los valores nulos. Con al menos un 20% aproximadamente hay 21 columnas.  \n",
    "Vamos a eliminar esas columnas primero."
   ]
  },
  {
   "cell_type": "code",
   "execution_count": 30,
   "metadata": {},
   "outputs": [
    {
     "data": {
      "text/plain": [
       "<Axes: ylabel='id'>"
      ]
     },
     "execution_count": 30,
     "metadata": {},
     "output_type": "execute_result"
    },
    {
     "data": {
      "image/png": "[encoded data removed]",
      "text/plain": [
       "<Figure size 640x480 with 1 Axes>"
      ]
     },
     "metadata": {},
     "output_type": "display_data"
    }
   ],
   "source": [
    "sns.heatmap(df.isnull(),yticklabels=False,cbar=False,cmap='inferno')"
   ]
  },
  {
   "cell_type": "code",
   "execution_count": 25,
   "metadata": {},
   "outputs": [],
   "source": [
    "umbral = 18  # Porcentaje límite de valores nulos\n",
    "\n",
    "'''Obtener la lista de columnas a eliminar.\n",
    "Utilizamos .index.tolist() para obtener una lista de los nombres de las columnas a eliminar.'''\n",
    "columnas_eliminar = nulos_values_totales[nulos_values_totales['% nulos'] > umbral].index.tolist()\n",
    "\n",
    "# Eliminar las columnas del DataFrame original\n",
    "df1 = df.drop(columnas_eliminar, axis=1)"
   ]
  },
  {
   "cell_type": "code",
   "execution_count": 28,
   "metadata": {},
   "outputs": [
    {
     "data": {
      "text/plain": [
       "<Axes: ylabel='id'>"
      ]
     },
     "execution_count": 28,
     "metadata": {},
     "output_type": "execute_result"
    },
    {
     "data": {
      "image/png": "[encoded data removed]",
      "text/plain": [
       "<Figure size 640x480 with 1 Axes>"
      ]
     },
     "metadata": {},
     "output_type": "display_data"
    }
   ],
   "source": [
    "sns.heatmap(df1.isnull(),yticklabels=False,cbar=False,cmap='inferno')"
   ]
  },
  {
   "cell_type": "code",
   "execution_count": 37,
   "metadata": {},
   "outputs": [
    {
     "data": {
      "text/html": [
       "<div>\n",
       "<style scoped>\n",
       "    .dataframe tbody tr th:only-of-type {\n",
       "        vertical-align: middle;\n",
       "    }\n",
       "\n",
       "    .dataframe tbody tr th {\n",
       "        vertical-align: top;\n",
       "    }\n",
       "\n",
       "    .dataframe thead th {\n",
       "        text-align: right;\n",
       "    }\n",
       "</style>\n",
       "<table border=\"1\" class=\"dataframe\">\n",
       "  <thead>\n",
       "    <tr style=\"text-align: right;\">\n",
       "      <th></th>\n",
       "      <th>bedrooms</th>\n",
       "      <th>description</th>\n",
       "      <th>beds</th>\n",
       "      <th>host_is_superhost</th>\n",
       "      <th>bathrooms_text</th>\n",
       "      <th>maximum_nights_avg_ntm</th>\n",
       "      <th>maximum_minimum_nights</th>\n",
       "      <th>minimum_minimum_nights</th>\n",
       "      <th>minimum_nights_avg_ntm</th>\n",
       "      <th>maximum_maximum_nights</th>\n",
       "      <th>...</th>\n",
       "      <th>host_since</th>\n",
       "      <th>host_name</th>\n",
       "      <th>name</th>\n",
       "      <th>host_thumbnail_url</th>\n",
       "      <th>host_identity_verified</th>\n",
       "      <th>host_has_profile_pic</th>\n",
       "      <th>host_verifications</th>\n",
       "      <th>host_picture_url</th>\n",
       "      <th>host_listings_count</th>\n",
       "      <th>host_total_listings_count</th>\n",
       "    </tr>\n",
       "  </thead>\n",
       "  <tbody>\n",
       "    <tr>\n",
       "      <th>% nulos</th>\n",
       "      <td>8.525123</td>\n",
       "      <td>1.766743</td>\n",
       "      <td>1.406327</td>\n",
       "      <td>0.374549</td>\n",
       "      <td>0.096582</td>\n",
       "      <td>0.011778</td>\n",
       "      <td>0.011778</td>\n",
       "      <td>0.011778</td>\n",
       "      <td>0.011778</td>\n",
       "      <td>0.011778</td>\n",
       "      <td>...</td>\n",
       "      <td>0.004711</td>\n",
       "      <td>0.004711</td>\n",
       "      <td>0.004711</td>\n",
       "      <td>0.004711</td>\n",
       "      <td>0.004711</td>\n",
       "      <td>0.004711</td>\n",
       "      <td>0.004711</td>\n",
       "      <td>0.004711</td>\n",
       "      <td>0.004711</td>\n",
       "      <td>0.004711</td>\n",
       "    </tr>\n",
       "  </tbody>\n",
       "</table>\n",
       "<p>1 rows × 21 columns</p>\n",
       "</div>"
      ],
      "text/plain": [
       "         bedrooms  description      beds  host_is_superhost  bathrooms_text  \\\n",
       "% nulos  8.525123     1.766743  1.406327           0.374549        0.096582   \n",
       "\n",
       "         maximum_nights_avg_ntm  maximum_minimum_nights  \\\n",
       "% nulos                0.011778                0.011778   \n",
       "\n",
       "         minimum_minimum_nights  minimum_nights_avg_ntm  \\\n",
       "% nulos                0.011778                0.011778   \n",
       "\n",
       "         maximum_maximum_nights  ...  host_since  host_name      name  \\\n",
       "% nulos                0.011778  ...    0.004711   0.004711  0.004711   \n",
       "\n",
       "         host_thumbnail_url  host_identity_verified  host_has_profile_pic  \\\n",
       "% nulos            0.004711                0.004711              0.004711   \n",
       "\n",
       "         host_verifications  host_picture_url  host_listings_count  \\\n",
       "% nulos            0.004711          0.004711             0.004711   \n",
       "\n",
       "         host_total_listings_count  \n",
       "% nulos                   0.004711  \n",
       "\n",
       "[1 rows x 21 columns]"
      ]
     },
     "execution_count": 37,
     "metadata": {},
     "output_type": "execute_result"
    }
   ],
   "source": [
    "nulos_values = df1.isnull().sum()\n",
    "nulos_values_percentage = nulos_values/len(df1)*100 #Calculamos el % del los datos faltantes en cada columna\n",
    "nulos_values_totales= nulos_values_percentage.sort_values(ascending = False) #Ordenamos de mayor a menor\n",
    "nulos_values_totales = pd.DataFrame(nulos_values_totales,columns=[\"% nulos\"])\n",
    "nulos_values_totales[nulos_values_totales['% nulos'] > 0].sort_values(by=\"% nulos\", ascending=False).T"
   ]
  },
  {
   "attachments": {},
   "cell_type": "markdown",
   "metadata": {},
   "source": [
    "Analizamos de las columnas restantes con cuales nos quedamos y que hacemos con sus valores nulos:"
   ]
  },
  {
   "attachments": {},
   "cell_type": "markdown",
   "metadata": {},
   "source": [
    "# Bedrooms no la quiero para nada:\n",
    "df1 = df1.drop('bedrooms', axis=1)\n"
   ]
  },
  {
   "cell_type": "code",
   "execution_count": null,
   "metadata": {},
   "outputs": [],
   "source": [
    "# Elimino las que no quiero para nada:\n",
    "df1 = df1.drop('bedrooms', 'description' 'beds','maximum_nights_avg_ntm','bathrooms_text' , axis=1)\n",
    "\n",
    "# Me parece interesante saber si es superhost\n",
    "\n",
    "'host_is_superhost'\n",
    "# Me parece interesante saber si el minimo de noches para los que tienen mas de un alojamiento es de 30 dias sino incumplen con la ley porque solo pueden ofrecer estancias cortas los anfitriones que ofrecen su primera residencia. Si ofrecen su segunda o cualquier otra residencia minimo tienen que ofrecer 30 dias.\n",
    "'maximum_minimum_nights'\n"
   ]
  }
 ],
 "metadata": {
  "kernelspec": {
   "display_name": "Python 3",
   "language": "python",
   "name": "python3"
  },
  "language_info": {
   "codemirror_mode": {
    "name": "ipython",
    "version": 3
   },
   "file_extension": ".py",
   "mimetype": "text/x-python",
   "name": "python",
   "nbconvert_exporter": "python",
   "pygments_lexer": "ipython3",
   "version": "3.10.10"
  },
  "orig_nbformat": 4
 },
 "nbformat": 4,
 "nbformat_minor": 2
}
